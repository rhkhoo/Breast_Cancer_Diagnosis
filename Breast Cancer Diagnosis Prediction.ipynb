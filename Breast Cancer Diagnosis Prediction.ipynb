{
 "cells": [
  {
   "cell_type": "markdown",
   "metadata": {},
   "source": [
    "# Predicting Breast Cancer Diagnosis Best Models"
   ]
  },
  {
   "cell_type": "markdown",
   "metadata": {},
   "source": [
    "This dataset is from the UCI Machine Learning Repository, downloaded from Kaggle. Link [here](https://www.kaggle.com/uciml/breast-cancer-wisconsin-data)\n",
    "\n",
    "Features are computed from a digitized image of a fine needle aspirate (FNA) of a breast mass. They describe characteristics of the cell nuclei present in the image.\n",
    "\n",
    "Ten real-valued features are computed for each cell nucleus:\n",
    "\n",
    "a) **radius** (mean of distances from center to points on the perimeter)<br>\n",
    "b) **texture** (standard deviation of gray-scale values)<br>\n",
    "c) **perimeter**<br>\n",
    "d) **area**<br>\n",
    "e) **smoothness** (local variation in radius lengths)<br>\n",
    "f) **compactness** (perimeter^2 / area - 1.0)<br>\n",
    "g) **concavity** (severity of concave portions of the contour)<br>\n",
    "h) **concave points** (number of concave portions of the contour)<br>\n",
    "i) **symmetry**<br>\n",
    "j) **fractal dimension** (\"coastline approximation\" - 1)<br>\n",
    "\n",
    "The columns names ending with \"se\" or \"worst\" refer to the standard error or the maximum of that feature observed, respectively.\n",
    "\n",
    "The target column is the binary \"diagnosis\" column."
   ]
  },
  {
   "cell_type": "markdown",
   "metadata": {},
   "source": [
    "# Summary after 10-fold cross-validation"
   ]
  },
  {
   "cell_type": "markdown",
   "metadata": {},
   "source": [
    "#### [LogisticRegression](LogisticRegression_Breast_Cancer.ipynb) \n",
    "    * Unscaled\n",
    "        Test accuracy: 0.9287\n",
    "        Recall: 0.875\n",
    "        AUPRC: 0.9166\n",
    "    * Scaled\n",
    "        Test accuracy: 0.9636\n",
    "        Recall: 0.925\n",
    "        AUPRC: 0.9466\n",
    "    * Unscaled after dropping low-importance columns:\n",
    "        Test accuracy: 0.9287\n",
    "        Recall: 0.9\n",
    "        AUPRC: 0.9166\n",
    "    * Scaled after dropping low_importance columns:\n",
    "        Test accuracy: 0.9553\n",
    "        Recall: 0.95\n",
    "        AUPRC: 0.9395\n",
    "        \n",
    "#### [RandomForestClassifier](RandomForest_Breast_Cancer.ipynb)\n",
    "    * Unscaled\n",
    "        Test accuracy:  0.9295\n",
    "        Recall: 0.875\n",
    "        AUPRC: 0.9395\n",
    "    * Scaled\n",
    "        Test accuracy:  0.9295\n",
    "        Recall: 0.875\n",
    "        AUPRC: 0.9395\n",
    "    * Unscaled after dropping low-importance columns:\n",
    "        Test accuracy:  0.9295\n",
    "        Recall: 0.875\n",
    "        AUPRC: 0.9395\n",
    "    * Scaled after dropping low_importance columns:\n",
    "        Test accuracy:  0.9295\n",
    "        Recall: 0.875\n",
    "        AUPRC: 0.9395\n",
    "        \n",
    "#### [KNN](KNN_Breast_Cancer.ipynb)\n",
    "    * Unscaled\n",
    "        Test accuracy: 0.9295\n",
    "        Recall: 0.835\n",
    "        AUPRC: 0.8715\n",
    "    * Scaled\n",
    "        Test accuracy:  0.9469\n",
    "        Recall: 0.875\n",
    "        AUPRC: 0.9095\n",
    "        \n",
    "#### [SVC](SVC_Breast_Cancer.ipynb)\n",
    "    * Unscaled\n",
    "        Test accuracy:  0.9287\n",
    "        Recall: 0.9\n",
    "        AUPRC: 0.9016\n",
    "    * Scaled\n",
    "        Test accuracy:  0.9469\n",
    "        Recall: 0.9\n",
    "        AUPRC: 0.9617\n",
    "    * Unscaled after dropping low-importance columns:\n",
    "        Test accuracy: 0.9287\n",
    "        Recall: 0.9\n",
    "        AUPRC: 0.9016\n",
    "        \n",
    "#### [XGBClassifier](XGB_Breast_Cancer.ipynb)\n",
    "    * Unscaled\n",
    "        Test accuracy: 0.9386\n",
    "        Recall: 0.9\n",
    "        AUPRC: 0.9699\n",
    "    * Scaled\n",
    "        Test accuracy: 0.9386\n",
    "        Recall: 0.9\n",
    "        AUPRC: 0.4373\n",
    "    * Unscaled after dropping low-importance columns:\n",
    "        Test accuracy: 0.5699\n",
    "        Recall: 0.3361\n",
    "        AUPRC: 0.3595\n",
    "    * Scaled after dropping low_importance columns:\n",
    "        Test accuracy: 0.5699\n",
    "        Recall: 0.3361\n",
    "        AUPRC: 0.3595"
   ]
  },
  {
   "cell_type": "code",
   "execution_count": 1,
   "metadata": {},
   "outputs": [],
   "source": [
    "import pandas as pd\n",
    "import seaborn as sns\n",
    "import statsmodels.api as sm\n",
    "import warnings\n",
    "import matplotlib.pyplot as plt\n",
    "\n",
    "from sklearn.linear_model import LogisticRegression, LinearRegression\n",
    "from sklearn.ensemble import RandomForestClassifier, GradientBoostingRegressor\n",
    "from sklearn.neighbors import KNeighborsClassifier\n",
    "from sklearn.svm import SVC\n",
    "from xgboost import XGBClassifier\n",
    "\n",
    "from sklearn.preprocessing import StandardScaler\n",
    "from sklearn.model_selection import train_test_split, GridSearchCV, cross_val_score\n",
    "from sklearn.metrics import confusion_matrix, classification_report, recall_score, make_scorer, average_precision_score\n",
    "from statsmodels.stats.outliers_influence import variance_inflation_factor"
   ]
  },
  {
   "cell_type": "code",
   "execution_count": 2,
   "metadata": {},
   "outputs": [],
   "source": [
    "cancer = pd.read_csv('breast_cancer.csv')"
   ]
  },
  {
   "cell_type": "markdown",
   "metadata": {},
   "source": [
    "# Data Exploration and Model Preparation"
   ]
  },
  {
   "cell_type": "code",
   "execution_count": 3,
   "metadata": {},
   "outputs": [
    {
     "data": {
      "text/plain": [
       "(569, 33)"
      ]
     },
     "execution_count": 3,
     "metadata": {},
     "output_type": "execute_result"
    }
   ],
   "source": [
    "cancer.shape"
   ]
  },
  {
   "cell_type": "code",
   "execution_count": 4,
   "metadata": {},
   "outputs": [
    {
     "data": {
      "text/html": [
       "<div>\n",
       "<style scoped>\n",
       "    .dataframe tbody tr th:only-of-type {\n",
       "        vertical-align: middle;\n",
       "    }\n",
       "\n",
       "    .dataframe tbody tr th {\n",
       "        vertical-align: top;\n",
       "    }\n",
       "\n",
       "    .dataframe thead th {\n",
       "        text-align: right;\n",
       "    }\n",
       "</style>\n",
       "<table border=\"1\" class=\"dataframe\">\n",
       "  <thead>\n",
       "    <tr style=\"text-align: right;\">\n",
       "      <th></th>\n",
       "      <th>id</th>\n",
       "      <th>diagnosis</th>\n",
       "      <th>radius_mean</th>\n",
       "      <th>texture_mean</th>\n",
       "      <th>perimeter_mean</th>\n",
       "      <th>area_mean</th>\n",
       "      <th>smoothness_mean</th>\n",
       "      <th>compactness_mean</th>\n",
       "      <th>concavity_mean</th>\n",
       "      <th>concave points_mean</th>\n",
       "      <th>...</th>\n",
       "      <th>texture_worst</th>\n",
       "      <th>perimeter_worst</th>\n",
       "      <th>area_worst</th>\n",
       "      <th>smoothness_worst</th>\n",
       "      <th>compactness_worst</th>\n",
       "      <th>concavity_worst</th>\n",
       "      <th>concave points_worst</th>\n",
       "      <th>symmetry_worst</th>\n",
       "      <th>fractal_dimension_worst</th>\n",
       "      <th>Unnamed: 32</th>\n",
       "    </tr>\n",
       "  </thead>\n",
       "  <tbody>\n",
       "    <tr>\n",
       "      <th>0</th>\n",
       "      <td>842302</td>\n",
       "      <td>M</td>\n",
       "      <td>17.99</td>\n",
       "      <td>10.38</td>\n",
       "      <td>122.8</td>\n",
       "      <td>1001.0</td>\n",
       "      <td>0.11840</td>\n",
       "      <td>0.27760</td>\n",
       "      <td>0.3001</td>\n",
       "      <td>0.14710</td>\n",
       "      <td>...</td>\n",
       "      <td>17.33</td>\n",
       "      <td>184.6</td>\n",
       "      <td>2019.0</td>\n",
       "      <td>0.1622</td>\n",
       "      <td>0.6656</td>\n",
       "      <td>0.7119</td>\n",
       "      <td>0.2654</td>\n",
       "      <td>0.4601</td>\n",
       "      <td>0.11890</td>\n",
       "      <td>NaN</td>\n",
       "    </tr>\n",
       "    <tr>\n",
       "      <th>1</th>\n",
       "      <td>842517</td>\n",
       "      <td>M</td>\n",
       "      <td>20.57</td>\n",
       "      <td>17.77</td>\n",
       "      <td>132.9</td>\n",
       "      <td>1326.0</td>\n",
       "      <td>0.08474</td>\n",
       "      <td>0.07864</td>\n",
       "      <td>0.0869</td>\n",
       "      <td>0.07017</td>\n",
       "      <td>...</td>\n",
       "      <td>23.41</td>\n",
       "      <td>158.8</td>\n",
       "      <td>1956.0</td>\n",
       "      <td>0.1238</td>\n",
       "      <td>0.1866</td>\n",
       "      <td>0.2416</td>\n",
       "      <td>0.1860</td>\n",
       "      <td>0.2750</td>\n",
       "      <td>0.08902</td>\n",
       "      <td>NaN</td>\n",
       "    </tr>\n",
       "  </tbody>\n",
       "</table>\n",
       "<p>2 rows × 33 columns</p>\n",
       "</div>"
      ],
      "text/plain": [
       "       id diagnosis  radius_mean  texture_mean  perimeter_mean  area_mean  \\\n",
       "0  842302         M        17.99         10.38           122.8     1001.0   \n",
       "1  842517         M        20.57         17.77           132.9     1326.0   \n",
       "\n",
       "   smoothness_mean  compactness_mean  concavity_mean  concave points_mean  \\\n",
       "0          0.11840           0.27760          0.3001              0.14710   \n",
       "1          0.08474           0.07864          0.0869              0.07017   \n",
       "\n",
       "   ...  texture_worst  perimeter_worst  area_worst  smoothness_worst  \\\n",
       "0  ...          17.33            184.6      2019.0            0.1622   \n",
       "1  ...          23.41            158.8      1956.0            0.1238   \n",
       "\n",
       "   compactness_worst  concavity_worst  concave points_worst  symmetry_worst  \\\n",
       "0             0.6656           0.7119                0.2654          0.4601   \n",
       "1             0.1866           0.2416                0.1860          0.2750   \n",
       "\n",
       "   fractal_dimension_worst  Unnamed: 32  \n",
       "0                  0.11890          NaN  \n",
       "1                  0.08902          NaN  \n",
       "\n",
       "[2 rows x 33 columns]"
      ]
     },
     "execution_count": 4,
     "metadata": {},
     "output_type": "execute_result"
    }
   ],
   "source": [
    "cancer.head(2)"
   ]
  },
  {
   "cell_type": "code",
   "execution_count": 5,
   "metadata": {},
   "outputs": [
    {
     "data": {
      "text/plain": [
       "1.0"
      ]
     },
     "execution_count": 5,
     "metadata": {},
     "output_type": "execute_result"
    }
   ],
   "source": [
    "cancer['Unnamed: 32'].isna().mean()"
   ]
  },
  {
   "cell_type": "markdown",
   "metadata": {},
   "source": [
    "The column \"Unnamed: 32\" contains nothing but NaNs, so I will drop that column along with the id column."
   ]
  },
  {
   "cell_type": "code",
   "execution_count": 6,
   "metadata": {},
   "outputs": [],
   "source": [
    "cancer = cancer.drop(['Unnamed: 32', 'id'], axis = 1)"
   ]
  },
  {
   "cell_type": "markdown",
   "metadata": {},
   "source": [
    "Secondly, the \"diagnosis\" column (the target) needs to be converted from strings to numbers."
   ]
  },
  {
   "cell_type": "code",
   "execution_count": 7,
   "metadata": {},
   "outputs": [],
   "source": [
    "diag_map = {'B':0, 'M': 1}\n",
    "\n",
    "cancer['diagnosis'] = cancer['diagnosis'].map(diag_map)"
   ]
  },
  {
   "cell_type": "code",
   "execution_count": 8,
   "metadata": {},
   "outputs": [
    {
     "data": {
      "text/plain": [
       "0    357\n",
       "1    212\n",
       "Name: diagnosis, dtype: int64"
      ]
     },
     "execution_count": 8,
     "metadata": {},
     "output_type": "execute_result"
    }
   ],
   "source": [
    "cancer['diagnosis'].value_counts()"
   ]
  },
  {
   "cell_type": "markdown",
   "metadata": {},
   "source": [
    "There is not a large class imbalace, but even so, I will stratify the test set by diagnosis to minimize any imbalace."
   ]
  },
  {
   "cell_type": "code",
   "execution_count": 9,
   "metadata": {},
   "outputs": [],
   "source": [
    "X = cancer.drop('diagnosis', 1)\n",
    "y = cancer['diagnosis']"
   ]
  },
  {
   "cell_type": "markdown",
   "metadata": {},
   "source": [
    "I will perform a train_test_split to isolate a testing set and a training set."
   ]
  },
  {
   "cell_type": "code",
   "execution_count": 10,
   "metadata": {},
   "outputs": [],
   "source": [
    "X_train, X_test, y_train, y_test = train_test_split(X, y, test_size = 0.2, random_state = 20, stratify = y)"
   ]
  },
  {
   "cell_type": "code",
   "execution_count": 11,
   "metadata": {},
   "outputs": [
    {
     "data": {
      "text/plain": [
       "0    285\n",
       "1    170\n",
       "Name: diagnosis, dtype: int64"
      ]
     },
     "execution_count": 11,
     "metadata": {},
     "output_type": "execute_result"
    }
   ],
   "source": [
    "y_train.value_counts()"
   ]
  },
  {
   "cell_type": "code",
   "execution_count": 12,
   "metadata": {},
   "outputs": [
    {
     "data": {
      "text/plain": [
       "0    72\n",
       "1    42\n",
       "Name: diagnosis, dtype: int64"
      ]
     },
     "execution_count": 12,
     "metadata": {},
     "output_type": "execute_result"
    }
   ],
   "source": [
    "y_test.value_counts()"
   ]
  },
  {
   "cell_type": "markdown",
   "metadata": {},
   "source": [
    "I will scale the data and try all models with scaled and un-scaled data."
   ]
  },
  {
   "cell_type": "code",
   "execution_count": 13,
   "metadata": {},
   "outputs": [],
   "source": [
    "scaler = StandardScaler()\n",
    "scaler.fit(X_train)\n",
    "\n",
    "X_train_scaled = scaler.transform(X_train)\n",
    "X_test_scaled = scaler.transform(X_test)"
   ]
  },
  {
   "cell_type": "markdown",
   "metadata": {},
   "source": [
    "For each model type, I will perform a GridSearchCV to find the best hyperparameters. Then, using these best hyperparameters, I will build the specified model and obtain the training score, test score, confustion matrix, and a classification report. If the model is able to provide feature importance, I will drop the low-importance features (threshold = 0.1) and run the scaled and unscaled models once more.\n",
    "\n",
    "To ensure the model is robust, I will perform a 10-fold cross-validation for each model.\n",
    "\n",
    "I am not only interested in the highest test accuracy, but also the highest recall because this minimizes the number of false negatives. I do not want to tell someone they are healthy when they actually have a malignant breast mass. That person should be receiving care, but instead they would be overlooked. Because of this I will also look at the area under the precision-recall curve (AUPRC).\n",
    "\n",
    "**This notebook only shows the best model from each category. The full investigations of each model can be found in the notebooks linked in the summary.**"
   ]
  },
  {
   "cell_type": "markdown",
   "metadata": {},
   "source": [
    "# LogisticRegression"
   ]
  },
  {
   "cell_type": "markdown",
   "metadata": {},
   "source": [
    "## Scaled"
   ]
  },
  {
   "cell_type": "code",
   "execution_count": 14,
   "metadata": {},
   "outputs": [
    {
     "name": "stdout",
     "output_type": "stream",
     "text": [
      "Wall time: 0 ns\n",
      "Training Score: 0.989010989010989\n",
      "Test Score: 0.9736842105263158\n",
      "              precision    recall  f1-score   support\n",
      "\n",
      "           0       0.97      0.99      0.98        72\n",
      "           1       0.98      0.95      0.96        42\n",
      "\n",
      "    accuracy                           0.97       114\n",
      "   macro avg       0.97      0.97      0.97       114\n",
      "weighted avg       0.97      0.97      0.97       114\n",
      "\n",
      "               Predicted Ben.  Predicted Mal.\n",
      "Actually Ben.              71               1\n",
      "Actually Mal.               2              40\n"
     ]
    }
   ],
   "source": [
    "%time\n",
    "model_lr_scale = LogisticRegression(C= 20, solver = 'newton-cg', max_iter = 100)\n",
    "model_lr_scale.fit(X_train_scaled, y_train)\n",
    "\n",
    "y_pred_lr_s = model_lr_scale.predict(X_test_scaled)\n",
    "\n",
    "confusion_df = pd.DataFrame(\n",
    "    confusion_matrix(y_test, y_pred_lr_s),\n",
    "    index=[\"Actually Ben.\", \"Actually Mal.\",],\n",
    "    columns=[\"Predicted Ben.\", \"Predicted Mal.\",],\n",
    ")\n",
    "\n",
    "\n",
    "print('Training Score: {}'.format(model_lr_scale.score(X_train_scaled, y_train)))\n",
    "print('Test Score: {}'.format(model_lr_scale.score(X_test_scaled, y_test)))\n",
    "print(classification_report(y_test, y_pred_lr_s))\n",
    "print(confusion_df)"
   ]
  },
  {
   "cell_type": "code",
   "execution_count": 15,
   "metadata": {},
   "outputs": [
    {
     "name": "stdout",
     "output_type": "stream",
     "text": [
      "Mean cross val accuracy: 0.9636363636363635\n",
      "Mean cross val recall: 0.925\n",
      "Area under precision-recall curve:0.9466960083134666\n"
     ]
    }
   ],
   "source": [
    "cv_scores = cross_val_score(model_lr_scale, X_test_scaled, y_test, cv = 10)\n",
    "print('Mean cross val accuracy: {}'.format(cv_scores.mean()))\n",
    "\n",
    "cv_scores = cross_val_score(model_lr_scale, X_test_scaled, y_test, cv = 10, scoring = make_scorer(recall_score))\n",
    "print('Mean cross val recall: {}'.format(cv_scores.mean()))\n",
    "\n",
    "print('Area under precision-recall curve:{}'.format(average_precision_score(y_test, y_pred_lr_s)))"
   ]
  },
  {
   "cell_type": "markdown",
   "metadata": {},
   "source": [
    "# RandomForestClassifier"
   ]
  },
  {
   "cell_type": "markdown",
   "metadata": {},
   "source": [
    "## Scaled, dropped low-importance features"
   ]
  },
  {
   "cell_type": "code",
   "execution_count": 16,
   "metadata": {},
   "outputs": [],
   "source": [
    "cancer_dropped_s = cancer.drop(columns=['concave points_se'\n",
    "                                        ,'fractal_dimension_worst'\n",
    "                                        ,'smoothness_mean'\n",
    "                                        ,'texture_se'\n",
    "                                        ,'fractal_dimension_se'\n",
    "                                        ,'symmetry_se'\n",
    "                                        ,'compactness_se'\n",
    "                                        ,'symmetry_mean'\n",
    "                                        ,'fractal_dimension_mean'\n",
    "                                        ,'smoothness_se'\n",
    "                                        ,'concavity_se'\n",
    "                                        ,'symmetry_worst'])\n",
    "\n",
    "X = cancer_dropped_s.drop(columns = 'diagnosis')\n",
    "\n",
    "y = cancer_dropped_s['diagnosis']\n",
    "\n",
    "X_train_op, X_test_op, y_train, y_test = train_test_split(X, y, test_size = 0.2, random_state = 20, stratify = y)"
   ]
  },
  {
   "cell_type": "code",
   "execution_count": 17,
   "metadata": {},
   "outputs": [],
   "source": [
    "scaler = StandardScaler()\n",
    "scaler.fit(X_train_op)\n",
    "\n",
    "X_train_scaled_op = scaler.transform(X_train_op)\n",
    "X_test_scaled_op = scaler.transform(X_test_op)"
   ]
  },
  {
   "cell_type": "code",
   "execution_count": 18,
   "metadata": {
    "scrolled": true
   },
   "outputs": [
    {
     "name": "stdout",
     "output_type": "stream",
     "text": [
      "Wall time: 0 ns\n",
      "Training Score: 0.9868131868131869\n",
      "Test Score: 0.9736842105263158\n",
      "              precision    recall  f1-score   support\n",
      "\n",
      "           0       0.99      0.97      0.98        72\n",
      "           1       0.95      0.98      0.96        42\n",
      "\n",
      "    accuracy                           0.97       114\n",
      "   macro avg       0.97      0.97      0.97       114\n",
      "weighted avg       0.97      0.97      0.97       114\n",
      "\n",
      "               Predicted Ben.  Predicted Mal.\n",
      "Actually Ben.              70               2\n",
      "Actually Mal.               1              41\n"
     ]
    }
   ],
   "source": [
    "%time\n",
    "model_rfc_scale_op = RandomForestClassifier(criterion = 'entropy', \n",
    "                                            max_depth = 20, \n",
    "                                            n_estimators = 50,\n",
    "                                            min_samples_leaf = 5,\n",
    "                                           random_state = 20)\n",
    "model_rfc_scale_op.fit(X_train_scaled_op, y_train)\n",
    "\n",
    "y_pred_rfc_s = model_rfc_scale_op.predict(X_test_scaled_op)\n",
    "\n",
    "confusion_df = pd.DataFrame(\n",
    "    confusion_matrix(y_test, y_pred_rfc_s),\n",
    "    index=[\"Actually Ben.\", \"Actually Mal.\",],\n",
    "    columns=[\"Predicted Ben.\", \"Predicted Mal.\",],\n",
    ")\n",
    "\n",
    "print('Training Score: {}'.format(model_rfc_scale_op.score(X_train_scaled_op, y_train)))\n",
    "print('Test Score: {}'.format(model_rfc_scale_op.score(X_test_scaled_op, y_test)))\n",
    "print(classification_report(y_test, y_pred_rfc_s))\n",
    "print(confusion_df)"
   ]
  },
  {
   "cell_type": "code",
   "execution_count": 19,
   "metadata": {},
   "outputs": [
    {
     "name": "stdout",
     "output_type": "stream",
     "text": [
      "Mean cross val accuracy: 0.9287878787878787\n",
      "Mean cross val recall: 0.875\n",
      "Area under precision-recall curve:0.9395581978201317\n"
     ]
    }
   ],
   "source": [
    "cv_scores = cross_val_score(model_rfc_scale_op, X_test_scaled_op, y_test, cv = 10)\n",
    "print('Mean cross val accuracy: {}'.format(cv_scores.mean()))\n",
    "\n",
    "cv_scores = cross_val_score(model_rfc_scale_op, X_test_scaled_op, y_test, cv = 10, scoring = make_scorer(recall_score))\n",
    "print('Mean cross val recall: {}'.format(cv_scores.mean()))\n",
    "\n",
    "print('Area under precision-recall curve:{}'.format(average_precision_score(y_test, y_pred_rfc_s)))"
   ]
  },
  {
   "cell_type": "markdown",
   "metadata": {},
   "source": [
    "# KNearestNeighbors"
   ]
  },
  {
   "cell_type": "markdown",
   "metadata": {},
   "source": [
    "## Scaled"
   ]
  },
  {
   "cell_type": "code",
   "execution_count": 20,
   "metadata": {},
   "outputs": [
    {
     "name": "stdout",
     "output_type": "stream",
     "text": [
      "Training Score: 1.0\n",
      "Test Score: 0.956140350877193\n",
      "              precision    recall  f1-score   support\n",
      "\n",
      "           0       0.96      0.97      0.97        72\n",
      "           1       0.95      0.93      0.94        42\n",
      "\n",
      "    accuracy                           0.96       114\n",
      "   macro avg       0.96      0.95      0.95       114\n",
      "weighted avg       0.96      0.96      0.96       114\n",
      "\n",
      "            Predicted 0  Predicted 1\n",
      "Actually 0           70            2\n",
      "Actually 1            3           39\n"
     ]
    }
   ],
   "source": [
    "model_knn_scale = KNeighborsClassifier(weights = 'distance', n_neighbors = 10)\n",
    "model_knn_scale.fit(X_train_scaled, y_train)\n",
    "\n",
    "y_pred_knn_s = model_knn_scale.predict(X_test_scaled)\n",
    "\n",
    "confusion_df = pd.DataFrame(\n",
    "    confusion_matrix(y_test, y_pred_knn_s),\n",
    "    index=[\"Actually 0\", \"Actually 1\",],\n",
    "    columns=[\"Predicted 0\", \"Predicted 1\",],\n",
    ")\n",
    "\n",
    "print('Training Score: {}'.format(model_knn_scale.score(X_train_scaled, y_train)))\n",
    "print('Test Score: {}'.format(model_knn_scale.score(X_test_scaled, y_test)))\n",
    "print(classification_report(y_test, y_pred_knn_s))\n",
    "print(confusion_df)"
   ]
  },
  {
   "cell_type": "code",
   "execution_count": 21,
   "metadata": {
    "scrolled": true
   },
   "outputs": [
    {
     "name": "stdout",
     "output_type": "stream",
     "text": [
      "Mean cross val accuracy: 0.9469696969696969\n",
      "Mean cross val recall: 0.875\n",
      "Area under precision-recall curve:0.909591050797726\n"
     ]
    }
   ],
   "source": [
    "cv_scores = cross_val_score(model_knn_scale, X_test_scaled, y_test, cv = 10)\n",
    "print('Mean cross val accuracy: {}'.format(cv_scores.mean()))\n",
    "\n",
    "cv_scores = cross_val_score(model_knn_scale, X_test_scaled, y_test, cv = 10, scoring = make_scorer(recall_score))\n",
    "print('Mean cross val recall: {}'.format(cv_scores.mean()))\n",
    "\n",
    "print('Area under precision-recall curve:{}'.format(average_precision_score(y_test, y_pred_knn_s)))"
   ]
  },
  {
   "cell_type": "markdown",
   "metadata": {},
   "source": [
    "# Support Vector Classifier"
   ]
  },
  {
   "cell_type": "markdown",
   "metadata": {},
   "source": [
    "## Scaled"
   ]
  },
  {
   "cell_type": "code",
   "execution_count": 22,
   "metadata": {},
   "outputs": [
    {
     "name": "stdout",
     "output_type": "stream",
     "text": [
      "Training Score: 0.989010989010989\n",
      "Test Score: 0.9824561403508771\n",
      "              precision    recall  f1-score   support\n",
      "\n",
      "           0       0.99      0.99      0.99        72\n",
      "           1       0.98      0.98      0.98        42\n",
      "\n",
      "    accuracy                           0.98       114\n",
      "   macro avg       0.98      0.98      0.98       114\n",
      "weighted avg       0.98      0.98      0.98       114\n",
      "\n",
      "               Predicted Ben.  Predicted Mal.\n",
      "Actually Ben.              71               1\n",
      "Actually Mal.               1              41\n"
     ]
    }
   ],
   "source": [
    "model_svc_scale = SVC(kernel = 'rbf', C = 1)\n",
    "model_svc_scale.fit(X_train_scaled, y_train)\n",
    "\n",
    "y_pred_svc_s = model_svc_scale.predict(X_test_scaled)\n",
    "\n",
    "confusion_df = pd.DataFrame(\n",
    "    confusion_matrix(y_test, y_pred_svc_s),\n",
    "    index=[\"Actually Ben.\", \"Actually Mal.\",],\n",
    "    columns=[\"Predicted Ben.\", \"Predicted Mal.\",],\n",
    ")\n",
    "\n",
    "print('Training Score: {}'.format(model_svc_scale.score(X_train_scaled, y_train)))\n",
    "print('Test Score: {}'.format(model_svc_scale.score(X_test_scaled, y_test)))\n",
    "print(classification_report(y_test, y_pred_svc_s))\n",
    "print(confusion_df)"
   ]
  },
  {
   "cell_type": "code",
   "execution_count": 23,
   "metadata": {},
   "outputs": [
    {
     "name": "stdout",
     "output_type": "stream",
     "text": [
      "Cross val test accuracy: 0.9469696969696969\n",
      "Mean cross val recall: 0.9\n",
      "Area under precision-recall curve:0.96171977562955\n"
     ]
    }
   ],
   "source": [
    "cv_scores = cross_val_score(model_svc_scale, X_test_scaled, y_test, cv= 10)\n",
    "print('Cross val test accuracy: {}'.format(cv_scores.mean()))\n",
    "\n",
    "cv_scores = cross_val_score(model_svc_scale, X_test_scaled, y_test, cv = 10, scoring = make_scorer(recall_score))\n",
    "print('Mean cross val recall: {}'.format(cv_scores.mean()))\n",
    "\n",
    "print('Area under precision-recall curve:{}'.format(average_precision_score(y_test, y_pred_svc_s)))"
   ]
  },
  {
   "cell_type": "markdown",
   "metadata": {},
   "source": [
    "# XGBClassifier"
   ]
  },
  {
   "cell_type": "markdown",
   "metadata": {},
   "source": [
    "## Unscaled"
   ]
  },
  {
   "cell_type": "code",
   "execution_count": 24,
   "metadata": {},
   "outputs": [
    {
     "name": "stdout",
     "output_type": "stream",
     "text": [
      "Training Score: 1.0\n",
      "Test Score: 0.9824561403508771\n",
      "              precision    recall  f1-score   support\n",
      "\n",
      "           0       0.97      1.00      0.99        72\n",
      "           1       1.00      0.95      0.98        42\n",
      "\n",
      "    accuracy                           0.98       114\n",
      "   macro avg       0.99      0.98      0.98       114\n",
      "weighted avg       0.98      0.98      0.98       114\n",
      "\n",
      "               Predicted Ben.  Predicted Mal.\n",
      "Actually Ben.              72               0\n",
      "Actually Mal.               2              40\n"
     ]
    }
   ],
   "source": [
    "model_xgb = XGBClassifier(learning_rate = 0.5, \n",
    "                          max_depth = 3, \n",
    "                          n_estimators = 100,\n",
    "                         subsample = 0.9)\n",
    "model_xgb.fit(X_train, y_train)\n",
    "y_pred_xgb = model_xgb.predict(X_test)\n",
    "\n",
    "confusion_df = pd.DataFrame(\n",
    "    confusion_matrix(y_test, y_pred_xgb),\n",
    "    index=[\"Actually Ben.\", \"Actually Mal.\",],\n",
    "    columns=[\"Predicted Ben.\", \"Predicted Mal.\",],\n",
    ")\n",
    "\n",
    "\n",
    "print('Training Score: {}'.format(model_xgb.score(X_train, y_train)))\n",
    "print('Test Score: {}'.format(model_xgb.score(X_test, y_test)))\n",
    "\n",
    "print(classification_report(y_test, y_pred_xgb))\n",
    "print(confusion_df)"
   ]
  },
  {
   "cell_type": "code",
   "execution_count": 25,
   "metadata": {},
   "outputs": [
    {
     "name": "stdout",
     "output_type": "stream",
     "text": [
      "Mean cross val accuracy: 0.9386363636363635\n",
      "Mean cross val recall: 0.9\n",
      "Area under precision-recall curve:0.9699248120300752\n"
     ]
    }
   ],
   "source": [
    "cv_scores = cross_val_score(model_xgb, X_test, y_test, cv = 10)\n",
    "print('Mean cross val accuracy: {}'.format(cv_scores.mean()))\n",
    "\n",
    "cv_scores = cross_val_score(model_xgb, X_test, y_test, cv = 10, scoring = make_scorer(recall_score))\n",
    "print('Mean cross val recall: {}'.format(cv_scores.mean()))\n",
    "\n",
    "print('Area under precision-recall curve:{}'.format(average_precision_score(y_test, y_pred_xgb)))"
   ]
  },
  {
   "cell_type": "code",
   "execution_count": null,
   "metadata": {},
   "outputs": [],
   "source": []
  }
 ],
 "metadata": {
  "kernelspec": {
   "display_name": "Python 3",
   "language": "python",
   "name": "python3"
  },
  "language_info": {
   "codemirror_mode": {
    "name": "ipython",
    "version": 3
   },
   "file_extension": ".py",
   "mimetype": "text/x-python",
   "name": "python",
   "nbconvert_exporter": "python",
   "pygments_lexer": "ipython3",
   "version": "3.7.6"
  }
 },
 "nbformat": 4,
 "nbformat_minor": 4
}
