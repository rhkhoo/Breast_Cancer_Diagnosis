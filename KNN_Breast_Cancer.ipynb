{
 "cells": [
  {
   "cell_type": "markdown",
   "metadata": {},
   "source": [
    "# Predicting Breast Cancer Diagnosis Using KNeighborClassifier"
   ]
  },
  {
   "cell_type": "markdown",
   "metadata": {},
   "source": [
    "This dataset is from the UCI Machine Learning Repository, downloaded from Kaggle. Link [here](https://www.kaggle.com/uciml/breast-cancer-wisconsin-data)\n",
    "\n",
    "Features are computed from a digitized image of a fine needle aspirate (FNA) of a breast mass. They describe characteristics of the cell nuclei present in the image.\n",
    "\n",
    "Ten real-valued features are computed for each cell nucleus:\n",
    "\n",
    "a) **radius** (mean of distances from center to points on the perimeter)<br>\n",
    "b) **texture** (standard deviation of gray-scale values)<br>\n",
    "c) **perimeter**<br>\n",
    "d) **area**<br>\n",
    "e) **smoothness** (local variation in radius lengths)<br>\n",
    "f) **compactness** (perimeter^2 / area - 1.0)<br>\n",
    "g) **concavity** (severity of concave portions of the contour)<br>\n",
    "h) **concave points** (number of concave portions of the contour)<br>\n",
    "i) **symmetry**<br>\n",
    "j) **fractal dimension** (\"coastline approximation\" - 1)<br>\n",
    "\n",
    "The columns names ending with \"se\" or \"worst\" refer to the standard error or the maximum of that feature observed, respectively.\n",
    "\n",
    "The target column is the binary \"diagnosis\" column."
   ]
  },
  {
   "cell_type": "markdown",
   "metadata": {},
   "source": [
    "# Summary\n",
    "\n",
    "#### KNN\n",
    "    * Unscaled\n",
    "        Test accuracy: 0.9205\n",
    "        Recall: 0.8055\n",
    "    * Scaled\n",
    "        Test accuracy:  0.9648\n",
    "        Recall: 0.9083"
   ]
  },
  {
   "cell_type": "code",
   "execution_count": 33,
   "metadata": {},
   "outputs": [],
   "source": [
    "import pandas as pd\n",
    "import seaborn as sns\n",
    "import statsmodels.api as sm\n",
    "import warnings\n",
    "import matplotlib.pyplot as plt\n",
    "import numpy as np\n",
    "\n",
    "from sklearn.neighbors import KNeighborsClassifier\n",
    "from sklearn.inspection import permutation_importance\n",
    "\n",
    "from sklearn.preprocessing import StandardScaler\n",
    "from sklearn.model_selection import train_test_split, GridSearchCV, cross_val_score\n",
    "from sklearn.metrics import confusion_matrix, classification_report, roc_curve, recall_score, make_scorer"
   ]
  },
  {
   "cell_type": "code",
   "execution_count": 34,
   "metadata": {},
   "outputs": [],
   "source": [
    "cancer = pd.read_csv('breast_cancer.csv')\n",
    "\n",
    "cancer = cancer.drop(['Unnamed: 32', 'id'], axis = 1)\n",
    "\n",
    "diag_map = {'B':0, 'M': 1}\n",
    "\n",
    "cancer['diagnosis'] = cancer['diagnosis'].map(diag_map)"
   ]
  },
  {
   "cell_type": "code",
   "execution_count": 35,
   "metadata": {},
   "outputs": [],
   "source": [
    "X = cancer.drop(['diagnosis'], 1)\n",
    "y = cancer['diagnosis']\n",
    "\n",
    "X_train, X_test, y_train, y_test = train_test_split(X, y, test_size = 0.2, random_state = 20, stratify = y)"
   ]
  },
  {
   "cell_type": "code",
   "execution_count": 36,
   "metadata": {},
   "outputs": [],
   "source": [
    "scaler = StandardScaler()\n",
    "scaler.fit(X_train)\n",
    "\n",
    "X_train_scaled = scaler.transform(X_train)\n",
    "X_test_scaled = scaler.transform(X_test)"
   ]
  },
  {
   "cell_type": "markdown",
   "metadata": {},
   "source": [
    "# Unscaled"
   ]
  },
  {
   "cell_type": "code",
   "execution_count": 37,
   "metadata": {},
   "outputs": [
    {
     "name": "stdout",
     "output_type": "stream",
     "text": [
      "Fitting 5 folds for each of 6 candidates, totalling 30 fits\n"
     ]
    },
    {
     "name": "stderr",
     "output_type": "stream",
     "text": [
      "[Parallel(n_jobs=-1)]: Using backend LokyBackend with 4 concurrent workers.\n"
     ]
    },
    {
     "name": "stdout",
     "output_type": "stream",
     "text": [
      "{'n_neighbors': 10, 'weights': 'distance'}\n"
     ]
    },
    {
     "name": "stderr",
     "output_type": "stream",
     "text": [
      "[Parallel(n_jobs=-1)]: Done  30 out of  30 | elapsed:    3.5s finished\n"
     ]
    }
   ],
   "source": [
    "knn_grid = {\n",
    "    'n_neighbors': [5, 10, 50],\n",
    "    'weights': ['uniform', 'distance'],\n",
    "}\n",
    "\n",
    "model_knn_grid = GridSearchCV(KNeighborsClassifier(), param_grid = knn_grid, verbose = 1, n_jobs = -1)\n",
    "model_knn_grid.fit(X_train, y_train)\n",
    "\n",
    "print(model_knn_grid.best_params_)"
   ]
  },
  {
   "cell_type": "code",
   "execution_count": 38,
   "metadata": {},
   "outputs": [
    {
     "name": "stdout",
     "output_type": "stream",
     "text": [
      "Training Score: 1.0\n",
      "Test Score: 0.9298245614035088\n",
      "              precision    recall  f1-score   support\n",
      "\n",
      "           0       0.91      0.99      0.95        72\n",
      "           1       0.97      0.83      0.90        42\n",
      "\n",
      "    accuracy                           0.93       114\n",
      "   macro avg       0.94      0.91      0.92       114\n",
      "weighted avg       0.93      0.93      0.93       114\n",
      "\n",
      "            Predicted 0  Predicted 1\n",
      "Actually 0           71            1\n",
      "Actually 1            7           35\n"
     ]
    }
   ],
   "source": [
    "model_knn = KNeighborsClassifier(weights = 'distance', n_neighbors = 10)\n",
    "model_knn.fit(X_train, y_train)\n",
    "\n",
    "y_pred_knn = model_knn.predict(X_test)\n",
    "\n",
    "confusion_df = pd.DataFrame(\n",
    "    confusion_matrix(y_test, y_pred_knn),\n",
    "    index=[\"Actually 0\", \"Actually 1\",],\n",
    "    columns=[\"Predicted 0\", \"Predicted 1\",],\n",
    ")\n",
    "\n",
    "\n",
    "print('Training Score: {}'.format(model_knn.score(X_train, y_train)))\n",
    "print('Test Score: {}'.format(model_knn.score(X_test, y_test)))\n",
    "print(classification_report(y_test, y_pred_knn))\n",
    "print(confusion_df)"
   ]
  },
  {
   "cell_type": "code",
   "execution_count": 39,
   "metadata": {},
   "outputs": [
    {
     "name": "stdout",
     "output_type": "stream",
     "text": [
      "Mean cross val accuracy: 0.9205533596837944\n",
      "Mean cross val recall: 0.8055555555555556\n"
     ]
    }
   ],
   "source": [
    "cv_scores = cross_val_score(model_knn, X_test, y_test, cv = 5)\n",
    "print('Mean cross val accuracy: {}'.format(cv_scores.mean()))\n",
    "\n",
    "cv_scores = cross_val_score(model_knn, X_test, y_test, cv = 5, scoring = make_scorer(recall_score))\n",
    "print('Mean cross val recall: {}'.format(cv_scores.mean()))"
   ]
  },
  {
   "cell_type": "markdown",
   "metadata": {},
   "source": [
    "# Scaled"
   ]
  },
  {
   "cell_type": "code",
   "execution_count": 40,
   "metadata": {},
   "outputs": [
    {
     "name": "stdout",
     "output_type": "stream",
     "text": [
      "Fitting 5 folds for each of 6 candidates, totalling 30 fits\n"
     ]
    },
    {
     "name": "stderr",
     "output_type": "stream",
     "text": [
      "[Parallel(n_jobs=-1)]: Using backend LokyBackend with 4 concurrent workers.\n"
     ]
    },
    {
     "name": "stdout",
     "output_type": "stream",
     "text": [
      "{'n_neighbors': 10, 'weights': 'distance'}\n"
     ]
    },
    {
     "name": "stderr",
     "output_type": "stream",
     "text": [
      "[Parallel(n_jobs=-1)]: Done  23 out of  30 | elapsed:    0.1s remaining:    0.0s\n",
      "[Parallel(n_jobs=-1)]: Done  30 out of  30 | elapsed:    0.1s finished\n"
     ]
    }
   ],
   "source": [
    "model_knn_grid = GridSearchCV(KNeighborsClassifier(), param_grid = knn_grid, verbose = 1, n_jobs = -1)\n",
    "model_knn_grid.fit(X_train_scaled, y_train)\n",
    "\n",
    "print(model_knn_grid.best_params_)"
   ]
  },
  {
   "cell_type": "code",
   "execution_count": 41,
   "metadata": {},
   "outputs": [
    {
     "name": "stdout",
     "output_type": "stream",
     "text": [
      "Training Score: 1.0\n",
      "Test Score: 0.956140350877193\n",
      "              precision    recall  f1-score   support\n",
      "\n",
      "           0       0.96      0.97      0.97        72\n",
      "           1       0.95      0.93      0.94        42\n",
      "\n",
      "    accuracy                           0.96       114\n",
      "   macro avg       0.96      0.95      0.95       114\n",
      "weighted avg       0.96      0.96      0.96       114\n",
      "\n",
      "            Predicted 0  Predicted 1\n",
      "Actually 0           70            2\n",
      "Actually 1            3           39\n"
     ]
    }
   ],
   "source": [
    "model_knn_scale = KNeighborsClassifier(weights = 'distance', n_neighbors = 10)\n",
    "model_knn_scale.fit(X_train_scaled, y_train)\n",
    "\n",
    "y_pred_knn_s = model_knn_scale.predict(X_test_scaled)\n",
    "\n",
    "confusion_df = pd.DataFrame(\n",
    "    confusion_matrix(y_test, y_pred_knn_s),\n",
    "    index=[\"Actually 0\", \"Actually 1\",],\n",
    "    columns=[\"Predicted 0\", \"Predicted 1\",],\n",
    ")\n",
    "\n",
    "print('Training Score: {}'.format(model_knn_scale.score(X_train_scaled, y_train)))\n",
    "print('Test Score: {}'.format(model_knn_scale.score(X_test_scaled, y_test)))\n",
    "print(classification_report(y_test, y_pred_knn_s))\n",
    "print(confusion_df)"
   ]
  },
  {
   "cell_type": "code",
   "execution_count": 42,
   "metadata": {},
   "outputs": [
    {
     "name": "stdout",
     "output_type": "stream",
     "text": [
      "Mean cross val accuracy: 0.9648221343873518\n",
      "Mean cross val recall: 0.9083333333333332\n"
     ]
    }
   ],
   "source": [
    "cv_scores = cross_val_score(model_knn_scale, X_test_scaled, y_test, cv = 5)\n",
    "print('Mean cross val accuracy: {}'.format(cv_scores.mean()))\n",
    "\n",
    "cv_scores = cross_val_score(model_knn_scale, X_test_scaled, y_test, cv = 5, scoring = make_scorer(recall_score))\n",
    "print('Mean cross val recall: {}'.format(cv_scores.mean()))"
   ]
  },
  {
   "cell_type": "markdown",
   "metadata": {},
   "source": [
    "# ROC curve unscaled"
   ]
  },
  {
   "cell_type": "code",
   "execution_count": 43,
   "metadata": {},
   "outputs": [
    {
     "data": {
      "image/png": "[encoded data removed]",
      "text/plain": [
       "<Figure size 432x432 with 1 Axes>"
      ]
     },
     "metadata": {
      "needs_background": "light"
     },
     "output_type": "display_data"
    }
   ],
   "source": [
    "probs = model_knn.predict_proba(X_test)[:, 1]\n",
    "\n",
    "fpr, tpr, thresholds = roc_curve(y_test, probs)\n",
    "\n",
    "fig = plt.figure(figsize = (6, 6))\n",
    "plt.plot([0, 1], [0, 1], 'k--')\n",
    "plt.plot(fpr, tpr)\n",
    "plt.xlabel('False Positive Rate')\n",
    "plt.ylabel('True Positive Rate')\n",
    "plt.title('ROC curve for KNN Model')\n",
    "plt.show()"
   ]
  },
  {
   "cell_type": "markdown",
   "metadata": {},
   "source": [
    "# ROC curve scaled"
   ]
  },
  {
   "cell_type": "code",
   "execution_count": 27,
   "metadata": {},
   "outputs": [
    {
     "data": {
      "image/png": "[encoded data removed]",
      "text/plain": [
       "<Figure size 432x432 with 1 Axes>"
      ]
     },
     "metadata": {
      "needs_background": "light"
     },
     "output_type": "display_data"
    }
   ],
   "source": [
    "probs = model_knn_scale.predict_proba(X_test_scaled)[:, 1]\n",
    "\n",
    "fpr, tpr, thresholds = roc_curve(y_test, probs)\n",
    "\n",
    "fig = plt.figure(figsize = (6, 6))\n",
    "plt.plot([0, 1], [0, 1], 'k--')\n",
    "plt.plot(fpr, tpr)\n",
    "plt.xlabel('False Positive Rate')\n",
    "plt.ylabel('True Positive Rate')\n",
    "plt.title('ROC curve for KNN Model')\n",
    "plt.show()"
   ]
  },
  {
   "cell_type": "markdown",
   "metadata": {},
   "source": [
    "# Model confidence"
   ]
  },
  {
   "cell_type": "markdown",
   "metadata": {},
   "source": [
    "## Unscaled"
   ]
  },
  {
   "cell_type": "code",
   "execution_count": 18,
   "metadata": {},
   "outputs": [
    {
     "data": {
      "image/png": "[encoded data removed]",
      "text/plain": [
       "<Figure size 432x288 with 1 Axes>"
      ]
     },
     "metadata": {
      "needs_background": "light"
     },
     "output_type": "display_data"
    }
   ],
   "source": [
    "confidence = model_knn.predict_proba(X_test)[:, 1]\n",
    "\n",
    "sns.scatterplot(y_test, confidence, hue = y_test)\n",
    "plt.ylabel('Model Confidence of Class 1')\n",
    "plt.xlabel('Diagnosis Prediction')\n",
    "plt.title('KNearestClassifier')\n",
    "plt.show()"
   ]
  },
  {
   "cell_type": "markdown",
   "metadata": {},
   "source": [
    "## Scaled"
   ]
  },
  {
   "cell_type": "code",
   "execution_count": 19,
   "metadata": {},
   "outputs": [
    {
     "data": {
      "image/png": "[encoded data removed]",
      "text/plain": [
       "<Figure size 432x288 with 1 Axes>"
      ]
     },
     "metadata": {
      "needs_background": "light"
     },
     "output_type": "display_data"
    }
   ],
   "source": [
    "confidence = model_knn_scale.predict_proba(X_test_scaled)[:, 1]\n",
    "\n",
    "sns.scatterplot(y_test, confidence, hue = y_test)\n",
    "plt.ylabel('Model Confidence of Class 1')\n",
    "plt.xlabel('Diagnosis Prediction')\n",
    "plt.title('KNearestClassifier')\n",
    "plt.show()"
   ]
  },
  {
   "cell_type": "markdown",
   "metadata": {},
   "source": [
    "The scaled model is better because it has better accuracy, recall, and better confidence."
   ]
  }
 ],
 "metadata": {
  "kernelspec": {
   "display_name": "Python 3",
   "language": "python",
   "name": "python3"
  },
  "language_info": {
   "codemirror_mode": {
    "name": "ipython",
    "version": 3
   },
   "file_extension": ".py",
   "mimetype": "text/x-python",
   "name": "python",
   "nbconvert_exporter": "python",
   "pygments_lexer": "ipython3",
   "version": "3.7.6"
  }
 },
 "nbformat": 4,
 "nbformat_minor": 4
}
