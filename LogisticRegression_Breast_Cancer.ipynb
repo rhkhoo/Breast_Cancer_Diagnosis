{
 "cells": [
  {
   "cell_type": "markdown",
   "metadata": {},
   "source": [
    "# Predicting Breast Cancer Diagnosis Using Logistic Regression"
   ]
  },
  {
   "cell_type": "markdown",
   "metadata": {},
   "source": [
    "This dataset is from the UCI Machine Learning Repository, downloaded from Kaggle. Link [here](https://www.kaggle.com/uciml/breast-cancer-wisconsin-data)\n",
    "\n",
    "Features are computed from a digitized image of a fine needle aspirate (FNA) of a breast mass. They describe characteristics of the cell nuclei present in the image.\n",
    "\n",
    "Ten real-valued features are computed for each cell nucleus:\n",
    "\n",
    "a) **radius** (mean of distances from center to points on the perimeter)<br>\n",
    "b) **texture** (standard deviation of gray-scale values)<br>\n",
    "c) **perimeter**<br>\n",
    "d) **area**<br>\n",
    "e) **smoothness** (local variation in radius lengths)<br>\n",
    "f) **compactness** (perimeter^2 / area - 1.0)<br>\n",
    "g) **concavity** (severity of concave portions of the contour)<br>\n",
    "h) **concave points** (number of concave portions of the contour)<br>\n",
    "i) **symmetry**<br>\n",
    "j) **fractal dimension** (\"coastline approximation\" - 1)<br>\n",
    "\n",
    "The columns names ending with \"se\" or \"worst\" refer to the standard error or the maximum of that feature observed, respectively.\n",
    "\n",
    "The target column is the binary \"diagnosis\" column."
   ]
  },
  {
   "cell_type": "markdown",
   "metadata": {},
   "source": [
    "# Summary"
   ]
  },
  {
   "cell_type": "markdown",
   "metadata": {},
   "source": [
    "#### LogisticRegression after 10-fold cross-validation\n",
    "    * Unscaled\n",
    "        Test accuracy: 0.9287\n",
    "        Recall: 0.875\n",
    "        AUPRC: 0.9166\n",
    "    * Scaled\n",
    "        Test accuracy: 0.9636\n",
    "        Recall: 0.925\n",
    "        AUPRC: 0.9466\n",
    "    * Unscaled after dropping low-importance columns:\n",
    "        Test accuracy: 0.9287\n",
    "        Recall: 0.9\n",
    "        AUPRC: 0.9166\n",
    "    * Scaled after dropping low_importance columns:\n",
    "        Test accuracy: 0.9553\n",
    "        Recall: 0.95\n",
    "        AUPRC: 0.9395"
   ]
  },
  {
   "cell_type": "code",
   "execution_count": 1,
   "metadata": {},
   "outputs": [],
   "source": [
    "import pandas as pd\n",
    "import seaborn as sns\n",
    "import statsmodels.api as sm\n",
    "import warnings\n",
    "import matplotlib.pyplot as plt\n",
    "import numpy as np\n",
    "\n",
    "from sklearn.linear_model import LogisticRegression\n",
    "\n",
    "from sklearn.preprocessing import StandardScaler\n",
    "from sklearn.model_selection import train_test_split, GridSearchCV, cross_val_score\n",
    "from sklearn.metrics import confusion_matrix, classification_report, roc_curve, recall_score, make_scorer, precision_recall_curve, average_precision_score"
   ]
  },
  {
   "cell_type": "code",
   "execution_count": 2,
   "metadata": {},
   "outputs": [],
   "source": [
    "cancer = pd.read_csv('breast_cancer.csv')\n",
    "\n",
    "cancer = cancer.drop(['Unnamed: 32', 'id'], axis = 1)"
   ]
  },
  {
   "cell_type": "code",
   "execution_count": 3,
   "metadata": {},
   "outputs": [],
   "source": [
    "diag_map = {'B':0, 'M': 1}\n",
    "\n",
    "cancer['diagnosis'] = cancer['diagnosis'].map(diag_map)"
   ]
  },
  {
   "cell_type": "code",
   "execution_count": 4,
   "metadata": {},
   "outputs": [],
   "source": [
    "X = cancer.drop('diagnosis', 1)\n",
    "y = cancer['diagnosis']"
   ]
  },
  {
   "cell_type": "code",
   "execution_count": 5,
   "metadata": {},
   "outputs": [],
   "source": [
    "X_train, X_test, y_train, y_test = train_test_split(X, y, test_size = 0.2, random_state = 20, stratify = y)"
   ]
  },
  {
   "cell_type": "code",
   "execution_count": 6,
   "metadata": {},
   "outputs": [],
   "source": [
    "scaler = StandardScaler()\n",
    "scaler.fit(X_train)\n",
    "\n",
    "X_train_scaled = scaler.transform(X_train)\n",
    "X_test_scaled = scaler.transform(X_test)"
   ]
  },
  {
   "cell_type": "markdown",
   "metadata": {},
   "source": [
    "## Unscaled"
   ]
  },
  {
   "cell_type": "code",
   "execution_count": 7,
   "metadata": {
    "scrolled": false
   },
   "outputs": [
    {
     "name": "stdout",
     "output_type": "stream",
     "text": [
      "Fitting 5 folds for each of 60 candidates, totalling 300 fits\n"
     ]
    },
    {
     "name": "stderr",
     "output_type": "stream",
     "text": [
      "[Parallel(n_jobs=-1)]: Using backend LokyBackend with 4 concurrent workers.\n",
      "[Parallel(n_jobs=-1)]: Done  42 tasks      | elapsed:    5.7s\n",
      "[Parallel(n_jobs=-1)]: Done 192 tasks      | elapsed:   20.3s\n"
     ]
    },
    {
     "name": "stdout",
     "output_type": "stream",
     "text": [
      "{'C': 20, 'max_iter': 100, 'solver': 'newton-cg'}\n"
     ]
    },
    {
     "name": "stderr",
     "output_type": "stream",
     "text": [
      "[Parallel(n_jobs=-1)]: Done 300 out of 300 | elapsed:   35.2s finished\n"
     ]
    }
   ],
   "source": [
    "lr_grid = {\n",
    "    'C': [0.1, 1, 10, 20],\n",
    "    'solver': ['newton-cg', 'lbfgs', 'liblinear','sag', 'saga'],\n",
    "    'max_iter': [100, 1000, 10000]\n",
    "}\n",
    "\n",
    "model_lr_grid = GridSearchCV(LogisticRegression(max_iter = 1000), param_grid = lr_grid, verbose = 1, n_jobs = -1)\n",
    "model_lr_grid.fit(X_train, y_train)\n",
    "\n",
    "print(model_lr_grid.best_params_)"
   ]
  },
  {
   "cell_type": "code",
   "execution_count": 8,
   "metadata": {
    "scrolled": true
   },
   "outputs": [
    {
     "name": "stdout",
     "output_type": "stream",
     "text": [
      "Wall time: 0 ns\n",
      "Training Score: 0.9736263736263736\n",
      "Test Score: 0.956140350877193\n",
      "              precision    recall  f1-score   support\n",
      "\n",
      "           0       0.95      0.99      0.97        72\n",
      "           1       0.97      0.90      0.94        42\n",
      "\n",
      "    accuracy                           0.96       114\n",
      "   macro avg       0.96      0.95      0.95       114\n",
      "weighted avg       0.96      0.96      0.96       114\n",
      "\n",
      "               Predicted Ben.  Predicted Mal.\n",
      "Actually Ben.              71               1\n",
      "Actually Mal.               4              38\n"
     ]
    }
   ],
   "source": [
    "%time\n",
    "model_lr = LogisticRegression(C= 20, solver = 'newton-cg', max_iter = 10000)\n",
    "model_lr.fit(X_train, y_train)\n",
    "\n",
    "y_pred_lr = model_lr.predict(X_test)\n",
    "\n",
    "confusion_df = pd.DataFrame(\n",
    "    confusion_matrix(y_test, y_pred_lr),\n",
    "    index=[\"Actually Ben.\", \"Actually Mal.\",],\n",
    "    columns=[\"Predicted Ben.\", \"Predicted Mal.\",],\n",
    ")\n",
    "\n",
    "\n",
    "print('Training Score: {}'.format(model_lr.score(X_train, y_train)))\n",
    "print('Test Score: {}'.format(model_lr.score(X_test, y_test)))\n",
    "print(classification_report(y_test, y_pred_lr))\n",
    "print(confusion_df)"
   ]
  },
  {
   "cell_type": "code",
   "execution_count": 9,
   "metadata": {},
   "outputs": [
    {
     "name": "stdout",
     "output_type": "stream",
     "text": [
      "Mean cross val accuracy: 0.9287878787878787\n",
      "Mean cross val recall: 0.875\n",
      "Area under precision-recall curve:0.9166506008611272\n"
     ]
    }
   ],
   "source": [
    "cv_scores = cross_val_score(model_lr, X_test, y_test, cv = 10)\n",
    "print('Mean cross val accuracy: {}'.format(cv_scores.mean()))\n",
    "\n",
    "cv_scores = cross_val_score(model_lr, X_test, y_test, cv = 10, scoring = make_scorer(recall_score))\n",
    "print('Mean cross val recall: {}'.format(cv_scores.mean()))\n",
    "\n",
    "print('Area under precision-recall curve:{}'.format(average_precision_score(y_test, y_pred_lr)))"
   ]
  },
  {
   "cell_type": "code",
   "execution_count": 10,
   "metadata": {
    "scrolled": true
   },
   "outputs": [
    {
     "data": {
      "text/html": [
       "<div>\n",
       "<style scoped>\n",
       "    .dataframe tbody tr th:only-of-type {\n",
       "        vertical-align: middle;\n",
       "    }\n",
       "\n",
       "    .dataframe tbody tr th {\n",
       "        vertical-align: top;\n",
       "    }\n",
       "\n",
       "    .dataframe thead th {\n",
       "        text-align: right;\n",
       "    }\n",
       "</style>\n",
       "<table border=\"1\" class=\"dataframe\">\n",
       "  <thead>\n",
       "    <tr style=\"text-align: right;\">\n",
       "      <th></th>\n",
       "      <th>feat</th>\n",
       "      <th>coef_sq</th>\n",
       "    </tr>\n",
       "  </thead>\n",
       "  <tbody>\n",
       "    <tr>\n",
       "      <th>27</th>\n",
       "      <td>concave points_worst</td>\n",
       "      <td>2.296185e+01</td>\n",
       "    </tr>\n",
       "    <tr>\n",
       "      <th>28</th>\n",
       "      <td>symmetry_worst</td>\n",
       "      <td>1.873375e+01</td>\n",
       "    </tr>\n",
       "    <tr>\n",
       "      <th>26</th>\n",
       "      <td>concavity_worst</td>\n",
       "      <td>1.818486e+01</td>\n",
       "    </tr>\n",
       "    <tr>\n",
       "      <th>0</th>\n",
       "      <td>radius_mean</td>\n",
       "      <td>1.614987e+01</td>\n",
       "    </tr>\n",
       "    <tr>\n",
       "      <th>24</th>\n",
       "      <td>smoothness_worst</td>\n",
       "      <td>1.057438e+01</td>\n",
       "    </tr>\n",
       "    <tr>\n",
       "      <th>6</th>\n",
       "      <td>concavity_mean</td>\n",
       "      <td>8.086143e+00</td>\n",
       "    </tr>\n",
       "    <tr>\n",
       "      <th>11</th>\n",
       "      <td>texture_se</td>\n",
       "      <td>7.256004e+00</td>\n",
       "    </tr>\n",
       "    <tr>\n",
       "      <th>7</th>\n",
       "      <td>concave points_mean</td>\n",
       "      <td>6.560612e+00</td>\n",
       "    </tr>\n",
       "    <tr>\n",
       "      <th>8</th>\n",
       "      <td>symmetry_mean</td>\n",
       "      <td>4.850327e+00</td>\n",
       "    </tr>\n",
       "    <tr>\n",
       "      <th>15</th>\n",
       "      <td>compactness_se</td>\n",
       "      <td>3.625108e+00</td>\n",
       "    </tr>\n",
       "    <tr>\n",
       "      <th>16</th>\n",
       "      <td>concavity_se</td>\n",
       "      <td>2.697148e+00</td>\n",
       "    </tr>\n",
       "    <tr>\n",
       "      <th>4</th>\n",
       "      <td>smoothness_mean</td>\n",
       "      <td>2.576736e+00</td>\n",
       "    </tr>\n",
       "    <tr>\n",
       "      <th>20</th>\n",
       "      <td>radius_worst</td>\n",
       "      <td>2.405510e+00</td>\n",
       "    </tr>\n",
       "    <tr>\n",
       "      <th>25</th>\n",
       "      <td>compactness_worst</td>\n",
       "      <td>9.939653e-01</td>\n",
       "    </tr>\n",
       "    <tr>\n",
       "      <th>10</th>\n",
       "      <td>radius_se</td>\n",
       "      <td>4.095439e-01</td>\n",
       "    </tr>\n",
       "    <tr>\n",
       "      <th>12</th>\n",
       "      <td>perimeter_se</td>\n",
       "      <td>2.595648e-01</td>\n",
       "    </tr>\n",
       "    <tr>\n",
       "      <th>29</th>\n",
       "      <td>fractal_dimension_worst</td>\n",
       "      <td>1.914622e-01</td>\n",
       "    </tr>\n",
       "    <tr>\n",
       "      <th>21</th>\n",
       "      <td>texture_worst</td>\n",
       "      <td>1.802946e-01</td>\n",
       "    </tr>\n",
       "    <tr>\n",
       "      <th>19</th>\n",
       "      <td>fractal_dimension_se</td>\n",
       "      <td>1.475616e-01</td>\n",
       "    </tr>\n",
       "    <tr>\n",
       "      <th>14</th>\n",
       "      <td>smoothness_se</td>\n",
       "      <td>7.904332e-02</td>\n",
       "    </tr>\n",
       "    <tr>\n",
       "      <th>2</th>\n",
       "      <td>perimeter_mean</td>\n",
       "      <td>6.140095e-02</td>\n",
       "    </tr>\n",
       "    <tr>\n",
       "      <th>17</th>\n",
       "      <td>concave points_se</td>\n",
       "      <td>5.728011e-02</td>\n",
       "    </tr>\n",
       "    <tr>\n",
       "      <th>5</th>\n",
       "      <td>compactness_mean</td>\n",
       "      <td>4.681114e-02</td>\n",
       "    </tr>\n",
       "    <tr>\n",
       "      <th>18</th>\n",
       "      <td>symmetry_se</td>\n",
       "      <td>1.562521e-02</td>\n",
       "    </tr>\n",
       "    <tr>\n",
       "      <th>13</th>\n",
       "      <td>area_se</td>\n",
       "      <td>8.761950e-03</td>\n",
       "    </tr>\n",
       "    <tr>\n",
       "      <th>9</th>\n",
       "      <td>fractal_dimension_mean</td>\n",
       "      <td>8.533625e-03</td>\n",
       "    </tr>\n",
       "    <tr>\n",
       "      <th>1</th>\n",
       "      <td>texture_mean</td>\n",
       "      <td>1.444653e-03</td>\n",
       "    </tr>\n",
       "    <tr>\n",
       "      <th>3</th>\n",
       "      <td>area_mean</td>\n",
       "      <td>2.520844e-04</td>\n",
       "    </tr>\n",
       "    <tr>\n",
       "      <th>22</th>\n",
       "      <td>perimeter_worst</td>\n",
       "      <td>2.212310e-06</td>\n",
       "    </tr>\n",
       "    <tr>\n",
       "      <th>23</th>\n",
       "      <td>area_worst</td>\n",
       "      <td>5.285452e-07</td>\n",
       "    </tr>\n",
       "  </tbody>\n",
       "</table>\n",
       "</div>"
      ],
      "text/plain": [
       "                       feat       coef_sq\n",
       "27     concave points_worst  2.296185e+01\n",
       "28           symmetry_worst  1.873375e+01\n",
       "26          concavity_worst  1.818486e+01\n",
       "0               radius_mean  1.614987e+01\n",
       "24         smoothness_worst  1.057438e+01\n",
       "6            concavity_mean  8.086143e+00\n",
       "11               texture_se  7.256004e+00\n",
       "7       concave points_mean  6.560612e+00\n",
       "8             symmetry_mean  4.850327e+00\n",
       "15           compactness_se  3.625108e+00\n",
       "16             concavity_se  2.697148e+00\n",
       "4           smoothness_mean  2.576736e+00\n",
       "20             radius_worst  2.405510e+00\n",
       "25        compactness_worst  9.939653e-01\n",
       "10                radius_se  4.095439e-01\n",
       "12             perimeter_se  2.595648e-01\n",
       "29  fractal_dimension_worst  1.914622e-01\n",
       "21            texture_worst  1.802946e-01\n",
       "19     fractal_dimension_se  1.475616e-01\n",
       "14            smoothness_se  7.904332e-02\n",
       "2            perimeter_mean  6.140095e-02\n",
       "17        concave points_se  5.728011e-02\n",
       "5          compactness_mean  4.681114e-02\n",
       "18              symmetry_se  1.562521e-02\n",
       "13                  area_se  8.761950e-03\n",
       "9    fractal_dimension_mean  8.533625e-03\n",
       "1              texture_mean  1.444653e-03\n",
       "3                 area_mean  2.520844e-04\n",
       "22          perimeter_worst  2.212310e-06\n",
       "23               area_worst  5.285452e-07"
      ]
     },
     "execution_count": 10,
     "metadata": {},
     "output_type": "execute_result"
    }
   ],
   "source": [
    "coef = model_lr_grid.best_estimator_.coef_[0]\n",
    "im_df = pd.DataFrame({\"feat\": X_train.columns, \"coef_sq\": coef ** 2})\n",
    "im_df.sort_values(\"coef_sq\", ascending=False)"
   ]
  },
  {
   "cell_type": "markdown",
   "metadata": {},
   "source": [
    "## Scaled"
   ]
  },
  {
   "cell_type": "code",
   "execution_count": 11,
   "metadata": {
    "scrolled": true
   },
   "outputs": [
    {
     "name": "stdout",
     "output_type": "stream",
     "text": [
      "Fitting 5 folds for each of 60 candidates, totalling 300 fits\n"
     ]
    },
    {
     "name": "stderr",
     "output_type": "stream",
     "text": [
      "[Parallel(n_jobs=-1)]: Using backend LokyBackend with 4 concurrent workers.\n",
      "[Parallel(n_jobs=-1)]: Done 205 tasks      | elapsed:    2.6s\n"
     ]
    },
    {
     "name": "stdout",
     "output_type": "stream",
     "text": [
      "{'C': 20, 'max_iter': 100, 'solver': 'newton-cg'}\n"
     ]
    },
    {
     "name": "stderr",
     "output_type": "stream",
     "text": [
      "[Parallel(n_jobs=-1)]: Done 300 out of 300 | elapsed:    8.5s finished\n",
      "C:\\Users\\rhais\\anaconda3\\lib\\site-packages\\sklearn\\linear_model\\_sag.py:330: ConvergenceWarning: The max_iter was reached which means the coef_ did not converge\n",
      "  \"the coef_ did not converge\", ConvergenceWarning)\n"
     ]
    }
   ],
   "source": [
    "model_lr_grid_s = GridSearchCV(LogisticRegression(), param_grid = lr_grid, verbose = 1, n_jobs = -1)\n",
    "model_lr_grid_s.fit(X_train_scaled, y_train)\n",
    "print(model_lr_grid.best_params_)"
   ]
  },
  {
   "cell_type": "code",
   "execution_count": 12,
   "metadata": {
    "scrolled": true
   },
   "outputs": [
    {
     "name": "stdout",
     "output_type": "stream",
     "text": [
      "Wall time: 0 ns\n",
      "Training Score: 0.989010989010989\n",
      "Test Score: 0.9736842105263158\n",
      "              precision    recall  f1-score   support\n",
      "\n",
      "           0       0.97      0.99      0.98        72\n",
      "           1       0.98      0.95      0.96        42\n",
      "\n",
      "    accuracy                           0.97       114\n",
      "   macro avg       0.97      0.97      0.97       114\n",
      "weighted avg       0.97      0.97      0.97       114\n",
      "\n",
      "               Predicted Ben.  Predicted Mal.\n",
      "Actually Ben.              71               1\n",
      "Actually Mal.               2              40\n"
     ]
    }
   ],
   "source": [
    "%time\n",
    "model_lr_scale = LogisticRegression(C= 20, solver = 'newton-cg', max_iter = 100)\n",
    "model_lr_scale.fit(X_train_scaled, y_train)\n",
    "\n",
    "y_pred_lr_s = model_lr_scale.predict(X_test_scaled)\n",
    "\n",
    "confusion_df = pd.DataFrame(\n",
    "    confusion_matrix(y_test, y_pred_lr_s),\n",
    "    index=[\"Actually Ben.\", \"Actually Mal.\"],\n",
    "    columns=[\"Predicted Ben.\", \"Predicted Mal.\"],\n",
    ")\n",
    "\n",
    "\n",
    "print('Training Score: {}'.format(model_lr_scale.score(X_train_scaled, y_train)))\n",
    "print('Test Score: {}'.format(model_lr_scale.score(X_test_scaled, y_test)))\n",
    "print(classification_report(y_test, y_pred_lr_s))\n",
    "print(confusion_df)"
   ]
  },
  {
   "cell_type": "code",
   "execution_count": 13,
   "metadata": {},
   "outputs": [
    {
     "name": "stdout",
     "output_type": "stream",
     "text": [
      "Mean cross val accuracy: 0.9636363636363635\n",
      "Mean cross val recall: 0.925\n",
      "Area under precision-recall curve:0.9466960083134666\n"
     ]
    }
   ],
   "source": [
    "cv_scores = cross_val_score(model_lr_scale, X_test_scaled, y_test, cv = 10)\n",
    "print('Mean cross val accuracy: {}'.format(cv_scores.mean()))\n",
    "\n",
    "cv_scores = cross_val_score(model_lr_scale, X_test_scaled, y_test, cv = 10, scoring = make_scorer(recall_score))\n",
    "print('Mean cross val recall: {}'.format(cv_scores.mean()))\n",
    "\n",
    "print('Area under precision-recall curve:{}'.format(average_precision_score(y_test, y_pred_lr_s)))"
   ]
  },
  {
   "cell_type": "code",
   "execution_count": 14,
   "metadata": {
    "scrolled": true
   },
   "outputs": [
    {
     "data": {
      "text/html": [
       "<div>\n",
       "<style scoped>\n",
       "    .dataframe tbody tr th:only-of-type {\n",
       "        vertical-align: middle;\n",
       "    }\n",
       "\n",
       "    .dataframe tbody tr th {\n",
       "        vertical-align: top;\n",
       "    }\n",
       "\n",
       "    .dataframe thead th {\n",
       "        text-align: right;\n",
       "    }\n",
       "</style>\n",
       "<table border=\"1\" class=\"dataframe\">\n",
       "  <thead>\n",
       "    <tr style=\"text-align: right;\">\n",
       "      <th></th>\n",
       "      <th>feat</th>\n",
       "      <th>coef_sq</th>\n",
       "    </tr>\n",
       "  </thead>\n",
       "  <tbody>\n",
       "    <tr>\n",
       "      <th>10</th>\n",
       "      <td>radius_se</td>\n",
       "      <td>0.977280</td>\n",
       "    </tr>\n",
       "    <tr>\n",
       "      <th>21</th>\n",
       "      <td>texture_worst</td>\n",
       "      <td>0.903071</td>\n",
       "    </tr>\n",
       "    <tr>\n",
       "      <th>20</th>\n",
       "      <td>radius_worst</td>\n",
       "      <td>0.715406</td>\n",
       "    </tr>\n",
       "    <tr>\n",
       "      <th>27</th>\n",
       "      <td>concave points_worst</td>\n",
       "      <td>0.668751</td>\n",
       "    </tr>\n",
       "    <tr>\n",
       "      <th>26</th>\n",
       "      <td>concavity_worst</td>\n",
       "      <td>0.648597</td>\n",
       "    </tr>\n",
       "    <tr>\n",
       "      <th>23</th>\n",
       "      <td>area_worst</td>\n",
       "      <td>0.621020</td>\n",
       "    </tr>\n",
       "    <tr>\n",
       "      <th>22</th>\n",
       "      <td>perimeter_worst</td>\n",
       "      <td>0.568928</td>\n",
       "    </tr>\n",
       "    <tr>\n",
       "      <th>13</th>\n",
       "      <td>area_se</td>\n",
       "      <td>0.566915</td>\n",
       "    </tr>\n",
       "    <tr>\n",
       "      <th>24</th>\n",
       "      <td>smoothness_worst</td>\n",
       "      <td>0.510582</td>\n",
       "    </tr>\n",
       "    <tr>\n",
       "      <th>12</th>\n",
       "      <td>perimeter_se</td>\n",
       "      <td>0.496060</td>\n",
       "    </tr>\n",
       "    <tr>\n",
       "      <th>7</th>\n",
       "      <td>concave points_mean</td>\n",
       "      <td>0.492554</td>\n",
       "    </tr>\n",
       "    <tr>\n",
       "      <th>28</th>\n",
       "      <td>symmetry_worst</td>\n",
       "      <td>0.485623</td>\n",
       "    </tr>\n",
       "    <tr>\n",
       "      <th>6</th>\n",
       "      <td>concavity_mean</td>\n",
       "      <td>0.435142</td>\n",
       "    </tr>\n",
       "    <tr>\n",
       "      <th>1</th>\n",
       "      <td>texture_mean</td>\n",
       "      <td>0.400415</td>\n",
       "    </tr>\n",
       "    <tr>\n",
       "      <th>19</th>\n",
       "      <td>fractal_dimension_se</td>\n",
       "      <td>0.337567</td>\n",
       "    </tr>\n",
       "    <tr>\n",
       "      <th>15</th>\n",
       "      <td>compactness_se</td>\n",
       "      <td>0.305159</td>\n",
       "    </tr>\n",
       "    <tr>\n",
       "      <th>3</th>\n",
       "      <td>area_mean</td>\n",
       "      <td>0.250802</td>\n",
       "    </tr>\n",
       "    <tr>\n",
       "      <th>0</th>\n",
       "      <td>radius_mean</td>\n",
       "      <td>0.207627</td>\n",
       "    </tr>\n",
       "    <tr>\n",
       "      <th>2</th>\n",
       "      <td>perimeter_mean</td>\n",
       "      <td>0.196621</td>\n",
       "    </tr>\n",
       "    <tr>\n",
       "      <th>9</th>\n",
       "      <td>fractal_dimension_mean</td>\n",
       "      <td>0.148226</td>\n",
       "    </tr>\n",
       "    <tr>\n",
       "      <th>18</th>\n",
       "      <td>symmetry_se</td>\n",
       "      <td>0.053561</td>\n",
       "    </tr>\n",
       "    <tr>\n",
       "      <th>11</th>\n",
       "      <td>texture_se</td>\n",
       "      <td>0.050501</td>\n",
       "    </tr>\n",
       "    <tr>\n",
       "      <th>14</th>\n",
       "      <td>smoothness_se</td>\n",
       "      <td>0.048418</td>\n",
       "    </tr>\n",
       "    <tr>\n",
       "      <th>5</th>\n",
       "      <td>compactness_mean</td>\n",
       "      <td>0.035100</td>\n",
       "    </tr>\n",
       "    <tr>\n",
       "      <th>25</th>\n",
       "      <td>compactness_worst</td>\n",
       "      <td>0.034690</td>\n",
       "    </tr>\n",
       "    <tr>\n",
       "      <th>4</th>\n",
       "      <td>smoothness_mean</td>\n",
       "      <td>0.033139</td>\n",
       "    </tr>\n",
       "    <tr>\n",
       "      <th>17</th>\n",
       "      <td>concave points_se</td>\n",
       "      <td>0.031912</td>\n",
       "    </tr>\n",
       "    <tr>\n",
       "      <th>16</th>\n",
       "      <td>concavity_se</td>\n",
       "      <td>0.014241</td>\n",
       "    </tr>\n",
       "    <tr>\n",
       "      <th>29</th>\n",
       "      <td>fractal_dimension_worst</td>\n",
       "      <td>0.008320</td>\n",
       "    </tr>\n",
       "    <tr>\n",
       "      <th>8</th>\n",
       "      <td>symmetry_mean</td>\n",
       "      <td>0.000567</td>\n",
       "    </tr>\n",
       "  </tbody>\n",
       "</table>\n",
       "</div>"
      ],
      "text/plain": [
       "                       feat   coef_sq\n",
       "10                radius_se  0.977280\n",
       "21            texture_worst  0.903071\n",
       "20             radius_worst  0.715406\n",
       "27     concave points_worst  0.668751\n",
       "26          concavity_worst  0.648597\n",
       "23               area_worst  0.621020\n",
       "22          perimeter_worst  0.568928\n",
       "13                  area_se  0.566915\n",
       "24         smoothness_worst  0.510582\n",
       "12             perimeter_se  0.496060\n",
       "7       concave points_mean  0.492554\n",
       "28           symmetry_worst  0.485623\n",
       "6            concavity_mean  0.435142\n",
       "1              texture_mean  0.400415\n",
       "19     fractal_dimension_se  0.337567\n",
       "15           compactness_se  0.305159\n",
       "3                 area_mean  0.250802\n",
       "0               radius_mean  0.207627\n",
       "2            perimeter_mean  0.196621\n",
       "9    fractal_dimension_mean  0.148226\n",
       "18              symmetry_se  0.053561\n",
       "11               texture_se  0.050501\n",
       "14            smoothness_se  0.048418\n",
       "5          compactness_mean  0.035100\n",
       "25        compactness_worst  0.034690\n",
       "4           smoothness_mean  0.033139\n",
       "17        concave points_se  0.031912\n",
       "16             concavity_se  0.014241\n",
       "29  fractal_dimension_worst  0.008320\n",
       "8             symmetry_mean  0.000567"
      ]
     },
     "execution_count": 14,
     "metadata": {},
     "output_type": "execute_result"
    }
   ],
   "source": [
    "coef = model_lr_grid_s.best_estimator_.coef_[0]\n",
    "im_df = pd.DataFrame({\"feat\": X_train.columns, \"coef_sq\": coef **2})\n",
    "im_df.sort_values(\"coef_sq\", ascending=False)"
   ]
  },
  {
   "cell_type": "markdown",
   "metadata": {},
   "source": [
    "# Dropping low-importance columns"
   ]
  },
  {
   "cell_type": "markdown",
   "metadata": {},
   "source": [
    "Threshold = 0.1"
   ]
  },
  {
   "cell_type": "markdown",
   "metadata": {},
   "source": [
    "## Unscaled"
   ]
  },
  {
   "cell_type": "code",
   "execution_count": 15,
   "metadata": {},
   "outputs": [],
   "source": [
    "cancer_dropped_u = cancer.drop(columns=['concave points_se',\n",
    "                                        'symmetry_se',\n",
    "                                       'compactness_mean',\n",
    "                                       'texture_mean',\n",
    "                                       'concavity_se',\n",
    "                                       'fractal_dimension_mean',\n",
    "                                       'area_mean',\n",
    "                                       'perimeter_mean',\n",
    "                                       'concave points_mean',\n",
    "                                       'area_se',\n",
    "                                       'perimeter_worst',\n",
    "                                       'area_worst'])\n",
    "\n",
    "X = cancer_dropped_u.drop(columns = 'diagnosis')\n",
    "\n",
    "y = cancer_dropped_u['diagnosis']\n",
    "\n",
    "X_train_op, X_test_op, y_train, y_test = train_test_split(X, y, test_size = 0.2, random_state = 20, stratify = y)"
   ]
  },
  {
   "cell_type": "code",
   "execution_count": 16,
   "metadata": {},
   "outputs": [
    {
     "name": "stdout",
     "output_type": "stream",
     "text": [
      "Fitting 5 folds for each of 80 candidates, totalling 400 fits\n"
     ]
    },
    {
     "name": "stderr",
     "output_type": "stream",
     "text": [
      "[Parallel(n_jobs=-1)]: Using backend LokyBackend with 4 concurrent workers.\n",
      "[Parallel(n_jobs=-1)]: Done 165 tasks      | elapsed:    6.4s\n",
      "[Parallel(n_jobs=-1)]: Done 393 out of 400 | elapsed:   18.8s remaining:    0.2s\n"
     ]
    },
    {
     "name": "stdout",
     "output_type": "stream",
     "text": [
      "{'C': 20, 'max_iter': 100, 'solver': 'newton-cg'}\n"
     ]
    },
    {
     "name": "stderr",
     "output_type": "stream",
     "text": [
      "[Parallel(n_jobs=-1)]: Done 400 out of 400 | elapsed:   19.8s finished\n"
     ]
    }
   ],
   "source": [
    "lr_grid = {\n",
    "    'C': [0.1, 1, 10, 20],\n",
    "    'solver': ['newton-cg', 'lbfgs', 'liblinear','sag', 'saga'],\n",
    "    'max_iter': [100, 1000, 10000, 100000]\n",
    "}\n",
    "\n",
    "model_lr_grid = GridSearchCV(LogisticRegression(max_iter = 1000), param_grid = lr_grid, verbose = 1, n_jobs = -1)\n",
    "model_lr_grid.fit(X_train_op, y_train)\n",
    "\n",
    "print(model_lr_grid.best_params_)"
   ]
  },
  {
   "cell_type": "code",
   "execution_count": 17,
   "metadata": {
    "scrolled": true
   },
   "outputs": [
    {
     "name": "stdout",
     "output_type": "stream",
     "text": [
      "Wall time: 0 ns\n",
      "Training Score: 0.967032967032967\n",
      "Test Score: 0.956140350877193\n",
      "              precision    recall  f1-score   support\n",
      "\n",
      "           0       0.95      0.99      0.97        72\n",
      "           1       0.97      0.90      0.94        42\n",
      "\n",
      "    accuracy                           0.96       114\n",
      "   macro avg       0.96      0.95      0.95       114\n",
      "weighted avg       0.96      0.96      0.96       114\n",
      "\n",
      "               Predicted Ben.  Predicted Mal.\n",
      "Actually Ben.              71               1\n",
      "Actually Mal.               4              38\n"
     ]
    }
   ],
   "source": [
    "%time\n",
    "model_lr_op = LogisticRegression(C= 20, solver = 'newton-cg', max_iter = 100)\n",
    "model_lr_op.fit(X_train_op, y_train)\n",
    "\n",
    "y_pred_lr_op = model_lr_op.predict(X_test_op)\n",
    "\n",
    "confusion_df = pd.DataFrame(\n",
    "    confusion_matrix(y_test, y_pred_lr_op),\n",
    "    index=[\"Actually Ben.\", \"Actually Mal.\",],\n",
    "    columns=[\"Predicted Ben.\", \"Predicted Mal.\",],\n",
    ")\n",
    "\n",
    "\n",
    "print('Training Score: {}'.format(model_lr_op.score(X_train_op, y_train)))\n",
    "print('Test Score: {}'.format(model_lr_op.score(X_test_op, y_test)))\n",
    "print(classification_report(y_test, y_pred_lr_op))\n",
    "print(confusion_df)"
   ]
  },
  {
   "cell_type": "code",
   "execution_count": 18,
   "metadata": {},
   "outputs": [
    {
     "name": "stdout",
     "output_type": "stream",
     "text": [
      "Mean cross val accuracy: 0.9287878787878787\n",
      "Mean cross val recall: 0.9\n",
      "Area under precision-recall curve:0.9166506008611272\n"
     ]
    }
   ],
   "source": [
    "cv_scores = cross_val_score(model_lr_op, X_test_op, y_test, cv = 10)\n",
    "print('Mean cross val accuracy: {}'.format(cv_scores.mean()))\n",
    "\n",
    "cv_scores = cross_val_score(model_lr_op, X_test_op, y_test, cv = 10, scoring = make_scorer(recall_score))\n",
    "print('Mean cross val recall: {}'.format(cv_scores.mean()))\n",
    "\n",
    "print('Area under precision-recall curve:{}'.format(average_precision_score(y_test, y_pred_lr_op)))"
   ]
  },
  {
   "cell_type": "markdown",
   "metadata": {},
   "source": [
    "## Scaled"
   ]
  },
  {
   "cell_type": "code",
   "execution_count": 19,
   "metadata": {},
   "outputs": [],
   "source": [
    "cancer_dropped_s = cancer.drop(columns=['concave points_se',\n",
    "                                        'smoothness_se',\n",
    "                                        'symmetry_se',\n",
    "                                       'compactness_mean',\n",
    "                                       'symmetry_se',\n",
    "                                       'texture_se',\n",
    "                                       'smoothness_mean',\n",
    "                                       'compactness_worst',\n",
    "                                       'concavity_se',\n",
    "                                       'fractal_dimension_worst',\n",
    "                                       'symmetry_mean'])\n",
    "\n",
    "X = cancer_dropped_s.drop(columns = 'diagnosis')\n",
    "\n",
    "y = cancer_dropped_s['diagnosis']\n",
    "\n",
    "X_train_scaled_op, X_test_scaled_op, y_train, y_test = train_test_split(X, y, test_size = 0.2, random_state = 20, stratify = y)"
   ]
  },
  {
   "cell_type": "code",
   "execution_count": 21,
   "metadata": {},
   "outputs": [],
   "source": [
    "scaler = StandardScaler()\n",
    "scaler.fit(X_train_scaled_op)\n",
    "\n",
    "X_train_scaled_op = scaler.transform(X_train_scaled_op)\n",
    "X_test_scaled_op = scaler.transform(X_test_scaled_op)"
   ]
  },
  {
   "cell_type": "code",
   "execution_count": 22,
   "metadata": {
    "scrolled": true
   },
   "outputs": [
    {
     "name": "stdout",
     "output_type": "stream",
     "text": [
      "Fitting 5 folds for each of 80 candidates, totalling 400 fits\n"
     ]
    },
    {
     "name": "stderr",
     "output_type": "stream",
     "text": [
      "[Parallel(n_jobs=-1)]: Using backend LokyBackend with 4 concurrent workers.\n",
      "[Parallel(n_jobs=-1)]: Done 280 tasks      | elapsed:    4.1s\n"
     ]
    },
    {
     "name": "stdout",
     "output_type": "stream",
     "text": [
      "{'C': 10, 'max_iter': 100, 'solver': 'saga'}\n"
     ]
    },
    {
     "name": "stderr",
     "output_type": "stream",
     "text": [
      "[Parallel(n_jobs=-1)]: Done 400 out of 400 | elapsed:    9.8s finished\n",
      "C:\\Users\\rhais\\anaconda3\\lib\\site-packages\\sklearn\\linear_model\\_sag.py:330: ConvergenceWarning: The max_iter was reached which means the coef_ did not converge\n",
      "  \"the coef_ did not converge\", ConvergenceWarning)\n"
     ]
    }
   ],
   "source": [
    "model_lr_grid_s = GridSearchCV(LogisticRegression(), param_grid = lr_grid, verbose = 1, n_jobs = -1)\n",
    "model_lr_grid_s.fit(X_train_scaled_op, y_train)\n",
    "print(model_lr_grid_s.best_params_)"
   ]
  },
  {
   "cell_type": "code",
   "execution_count": 23,
   "metadata": {},
   "outputs": [
    {
     "name": "stdout",
     "output_type": "stream",
     "text": [
      "Wall time: 0 ns\n",
      "Training Score: 0.989010989010989\n",
      "Test Score: 0.9736842105263158\n",
      "              precision    recall  f1-score   support\n",
      "\n",
      "           0       0.99      0.97      0.98        72\n",
      "           1       0.95      0.98      0.96        42\n",
      "\n",
      "    accuracy                           0.97       114\n",
      "   macro avg       0.97      0.97      0.97       114\n",
      "weighted avg       0.97      0.97      0.97       114\n",
      "\n",
      "               Predicted Ben.  Predicted Mal.\n",
      "Actually Ben.              70               2\n",
      "Actually Mal.               1              41\n"
     ]
    }
   ],
   "source": [
    "%time\n",
    "model_lr_scale_op = LogisticRegression(C= 10, solver = 'saga', \n",
    "                                       max_iter = 10000)\n",
    "model_lr_scale_op.fit(X_train_scaled_op, y_train)\n",
    "\n",
    "y_pred_lr_op_s = model_lr_scale_op.predict(X_test_scaled_op)\n",
    "\n",
    "confusion_df = pd.DataFrame(\n",
    "    confusion_matrix(y_test, y_pred_lr_op_s),\n",
    "    index=[\"Actually Ben.\", \"Actually Mal.\",],\n",
    "    columns=[\"Predicted Ben.\", \"Predicted Mal.\",],\n",
    ")\n",
    "\n",
    "\n",
    "print('Training Score: {}'.format(model_lr_scale_op.score(X_train_scaled_op, y_train)))\n",
    "print('Test Score: {}'.format(model_lr_scale_op.score(X_test_scaled_op, y_test)))\n",
    "print(classification_report(y_test, y_pred_lr_op_s))\n",
    "print(confusion_df)"
   ]
  },
  {
   "cell_type": "code",
   "execution_count": 24,
   "metadata": {},
   "outputs": [
    {
     "name": "stdout",
     "output_type": "stream",
     "text": [
      "Mean cross val accuracy: 0.9553030303030303\n",
      "Mean cross val recall: 0.95\n",
      "Area under precision-recall curve:0.9395581978201317\n"
     ]
    }
   ],
   "source": [
    "cv_scores = cross_val_score(model_lr_scale_op, X_test_scaled_op, y_test, cv = 10)\n",
    "print('Mean cross val accuracy: {}'.format(cv_scores.mean()))\n",
    "\n",
    "cv_scores = cross_val_score(model_lr_scale_op, X_test_scaled_op, y_test, cv = 10, scoring = make_scorer(recall_score))\n",
    "print('Mean cross val recall: {}'.format(cv_scores.mean()))\n",
    "\n",
    "print('Area under precision-recall curve:{}'.format(average_precision_score(y_test, y_pred_lr_op_s)))"
   ]
  },
  {
   "cell_type": "markdown",
   "metadata": {},
   "source": [
    "# Visualizations"
   ]
  },
  {
   "cell_type": "markdown",
   "metadata": {},
   "source": [
    "## Unscaled"
   ]
  },
  {
   "cell_type": "code",
   "execution_count": 25,
   "metadata": {
    "scrolled": false
   },
   "outputs": [
    {
     "data": {
      "image/png": "[encoded data removed]",
      "text/plain": [
       "<Figure size 432x432 with 1 Axes>"
      ]
     },
     "metadata": {
      "needs_background": "light"
     },
     "output_type": "display_data"
    }
   ],
   "source": [
    "probs = model_lr.predict_proba(X_test)[:, 1]\n",
    "\n",
    "fpr, tpr, thresholds = roc_curve(y_test, probs)\n",
    "\n",
    "fig = plt.figure(figsize = (6, 6))\n",
    "plt.plot([0, 1], [0, 1], 'k--')\n",
    "plt.plot(fpr, tpr)\n",
    "plt.xlabel('False Positive Rate')\n",
    "plt.ylabel('True Positive Rate')\n",
    "plt.title('ROC curve for Logistic Regression Model')\n",
    "plt.show()"
   ]
  },
  {
   "cell_type": "code",
   "execution_count": 26,
   "metadata": {},
   "outputs": [
    {
     "data": {
      "image/png": "[encoded data removed]",
      "text/plain": [
       "<Figure size 432x432 with 1 Axes>"
      ]
     },
     "metadata": {
      "needs_background": "light"
     },
     "output_type": "display_data"
    }
   ],
   "source": [
    "precision, recall, thresholds = precision_recall_curve(y_test, y_pred_lr)\n",
    "\n",
    "fig = plt.figure(figsize = (6, 6))\n",
    "plt.plot(recall, precision)\n",
    "plt.xlabel('Recall')\n",
    "plt.ylabel('Precision')\n",
    "plt.title('Precision-Recall Curve for Logistic Regression Model')\n",
    "plt.show()"
   ]
  },
  {
   "cell_type": "code",
   "execution_count": 27,
   "metadata": {},
   "outputs": [
    {
     "data": {
      "image/png": "[encoded data removed]",
      "text/plain": [
       "<Figure size 432x288 with 1 Axes>"
      ]
     },
     "metadata": {
      "needs_background": "light"
     },
     "output_type": "display_data"
    }
   ],
   "source": [
    "confidence = model_lr.predict_proba(X_test)[:, 1]\n",
    "\n",
    "sns.scatterplot(y_test, confidence, hue = y_test)\n",
    "plt.ylabel('Model Confidence')\n",
    "plt.xlabel('Diagnosis Prediction')\n",
    "plt.title('LogisticRegression')\n",
    "plt.show()"
   ]
  },
  {
   "cell_type": "markdown",
   "metadata": {},
   "source": [
    "# Scaled"
   ]
  },
  {
   "cell_type": "code",
   "execution_count": 28,
   "metadata": {},
   "outputs": [
    {
     "data": {
      "image/png": "[encoded data removed]",
      "text/plain": [
       "<Figure size 432x432 with 1 Axes>"
      ]
     },
     "metadata": {
      "needs_background": "light"
     },
     "output_type": "display_data"
    }
   ],
   "source": [
    "probs = model_lr_scale.predict_proba(X_test_scaled)[:, 1]\n",
    "\n",
    "fpr, tpr, thresholds = roc_curve(y_test, probs)\n",
    "\n",
    "fig = plt.figure(figsize = (6, 6))\n",
    "plt.plot([0, 1], [0, 1], 'k--')\n",
    "plt.plot(fpr, tpr)\n",
    "plt.xlabel('False Positive Rate')\n",
    "plt.ylabel('True Positive Rate')\n",
    "plt.title('ROC curve for Logistic Regression Model')\n",
    "plt.show()"
   ]
  },
  {
   "cell_type": "code",
   "execution_count": 29,
   "metadata": {},
   "outputs": [
    {
     "data": {
      "image/png": "[encoded data removed]",
      "text/plain": [
       "<Figure size 432x432 with 1 Axes>"
      ]
     },
     "metadata": {
      "needs_background": "light"
     },
     "output_type": "display_data"
    }
   ],
   "source": [
    "precision, recall, thresholds = precision_recall_curve(y_test, y_pred_lr_s)\n",
    "\n",
    "fig = plt.figure(figsize = (6, 6))\n",
    "plt.plot(recall, precision)\n",
    "plt.xlabel('Recall')\n",
    "plt.ylabel('Precision')\n",
    "plt.title('Precision-Recall Curve for Logistic Regression Model')\n",
    "plt.show()"
   ]
  },
  {
   "cell_type": "code",
   "execution_count": 30,
   "metadata": {
    "scrolled": true
   },
   "outputs": [
    {
     "data": {
      "image/png": "[encoded data removed]",
      "text/plain": [
       "<Figure size 432x288 with 1 Axes>"
      ]
     },
     "metadata": {
      "needs_background": "light"
     },
     "output_type": "display_data"
    }
   ],
   "source": [
    "confidence = model_lr_scale.predict_proba(X_test_scaled)[:, 1]\n",
    "\n",
    "sns.scatterplot(y_test, confidence, hue = y_test)\n",
    "plt.ylabel('Model Confidence')\n",
    "plt.xlabel('Diagnosis Prediction')\n",
    "plt.title('LogisticRegression')\n",
    "plt.show()"
   ]
  },
  {
   "cell_type": "markdown",
   "metadata": {},
   "source": [
    "# Unscaled optimized"
   ]
  },
  {
   "cell_type": "code",
   "execution_count": 31,
   "metadata": {
    "scrolled": true
   },
   "outputs": [
    {
     "data": {
      "image/png": "[encoded data removed]",
      "text/plain": [
       "<Figure size 432x432 with 1 Axes>"
      ]
     },
     "metadata": {
      "needs_background": "light"
     },
     "output_type": "display_data"
    }
   ],
   "source": [
    "probs = model_lr_op.predict_proba(X_test_op)[:, 1]\n",
    "\n",
    "fpr, tpr, thresholds = roc_curve(y_test, probs)\n",
    "\n",
    "fig = plt.figure(figsize = (6, 6))\n",
    "plt.plot([0, 1], [0, 1], 'k--')\n",
    "plt.plot(fpr, tpr)\n",
    "plt.xlabel('False Positive Rate')\n",
    "plt.ylabel('True Positive Rate')\n",
    "plt.title('ROC curve for Logistic Regression Model')\n",
    "plt.show()"
   ]
  },
  {
   "cell_type": "code",
   "execution_count": 32,
   "metadata": {},
   "outputs": [
    {
     "data": {
      "image/png": "[encoded data removed]",
      "text/plain": [
       "<Figure size 432x432 with 1 Axes>"
      ]
     },
     "metadata": {
      "needs_background": "light"
     },
     "output_type": "display_data"
    }
   ],
   "source": [
    "precision, recall, thresholds = precision_recall_curve(y_test, y_pred_lr_op)\n",
    "\n",
    "fig = plt.figure(figsize = (6, 6))\n",
    "plt.plot(recall, precision)\n",
    "plt.xlabel('Recall')\n",
    "plt.ylabel('Precision')\n",
    "plt.title('Precision-Recall Curve for Logistic Regression Model')\n",
    "plt.show()"
   ]
  },
  {
   "cell_type": "code",
   "execution_count": 33,
   "metadata": {},
   "outputs": [
    {
     "data": {
      "image/png": "[encoded data removed]",
      "text/plain": [
       "<Figure size 432x288 with 1 Axes>"
      ]
     },
     "metadata": {
      "needs_background": "light"
     },
     "output_type": "display_data"
    }
   ],
   "source": [
    "confidence = model_lr_op.predict_proba(X_test_op)[:, 1]\n",
    "\n",
    "sns.scatterplot(y_test, confidence, hue = y_test)\n",
    "plt.ylabel('Model Confidence')\n",
    "plt.xlabel('Diagnosis Prediction')\n",
    "plt.title('LogisticRegression')\n",
    "plt.show()"
   ]
  },
  {
   "cell_type": "markdown",
   "metadata": {},
   "source": [
    "## Scaled optimized"
   ]
  },
  {
   "cell_type": "code",
   "execution_count": 34,
   "metadata": {
    "scrolled": true
   },
   "outputs": [
    {
     "data": {
      "image/png": "[encoded data removed]",
      "text/plain": [
       "<Figure size 432x432 with 1 Axes>"
      ]
     },
     "metadata": {
      "needs_background": "light"
     },
     "output_type": "display_data"
    }
   ],
   "source": [
    "probs = model_lr_scale_op.predict_proba(X_test_scaled_op)[:, 1]\n",
    "\n",
    "fpr, tpr, thresholds = roc_curve(y_test, probs)\n",
    "\n",
    "fig = plt.figure(figsize = (6, 6))\n",
    "plt.plot([0, 1], [0, 1], 'k--')\n",
    "plt.plot(fpr, tpr)\n",
    "plt.xlabel('False Positive Rate')\n",
    "plt.ylabel('True Positive Rate')\n",
    "plt.title('ROC curve for Logistic Regression Model')\n",
    "plt.show()"
   ]
  },
  {
   "cell_type": "code",
   "execution_count": 35,
   "metadata": {},
   "outputs": [
    {
     "data": {
      "image/png": "[encoded data removed]",
      "text/plain": [
       "<Figure size 432x432 with 1 Axes>"
      ]
     },
     "metadata": {
      "needs_background": "light"
     },
     "output_type": "display_data"
    }
   ],
   "source": [
    "precision, recall, thresholds = precision_recall_curve(y_test, y_pred_lr_op_s)\n",
    "\n",
    "fig = plt.figure(figsize = (6, 6))\n",
    "plt.plot(recall, precision)\n",
    "plt.xlabel('Recall')\n",
    "plt.ylabel('Precision')\n",
    "plt.title('Precision-Recall Curve for Logistic Regression Model')\n",
    "plt.show()"
   ]
  },
  {
   "cell_type": "code",
   "execution_count": 36,
   "metadata": {
    "scrolled": true
   },
   "outputs": [
    {
     "data": {
      "image/png": "[encoded data removed]",
      "text/plain": [
       "<Figure size 432x288 with 1 Axes>"
      ]
     },
     "metadata": {
      "needs_background": "light"
     },
     "output_type": "display_data"
    }
   ],
   "source": [
    "confidence = model_lr_scale_op.predict_proba(X_test_scaled_op)[:, 1]\n",
    "\n",
    "sns.scatterplot(y_test, confidence, hue = y_test)\n",
    "plt.ylabel('Model Confidence of Class 1')\n",
    "plt.xlabel('Diagnosis Prediction')\n",
    "plt.title('LogisticRegression')\n",
    "plt.show()"
   ]
  },
  {
   "cell_type": "markdown",
   "metadata": {},
   "source": [
    "Scaled and optimized appears to be the best model in this notebook. It has the highest cross-validated accuracy, its recall is highest, and it is confident in its predictions."
   ]
  }
 ],
 "metadata": {
  "kernelspec": {
   "display_name": "Python 3",
   "language": "python",
   "name": "python3"
  },
  "language_info": {
   "codemirror_mode": {
    "name": "ipython",
    "version": 3
   },
   "file_extension": ".py",
   "mimetype": "text/x-python",
   "name": "python",
   "nbconvert_exporter": "python",
   "pygments_lexer": "ipython3",
   "version": "3.7.6"
  }
 },
 "nbformat": 4,
 "nbformat_minor": 4
}
